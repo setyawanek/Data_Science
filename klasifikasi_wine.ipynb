{
  "cells": [
    {
      "cell_type": "markdown",
      "metadata": {
        "id": "view-in-github",
        "colab_type": "text"
      },
      "source": [
        "<a href=\"https://colab.research.google.com/github/setyawanek/Data_Visualisasi/blob/main/klasifikasi_wine.ipynb\" target=\"_parent\"><img src=\"https://colab.research.google.com/assets/colab-badge.svg\" alt=\"Open In Colab\"/></a>"
      ]
    },
    {
      "cell_type": "markdown",
      "metadata": {
        "id": "zm_6lNKJeFuc"
      },
      "source": [
        "#import libraries"
      ]
    },
    {
      "cell_type": "code",
      "execution_count": null,
      "metadata": {
        "id": "ED54xTqfd9Jy"
      },
      "outputs": [],
      "source": [
        "import numpy as np\n",
        "import pandas as pd\n",
        "import seaborn as sns\n",
        "import matplotlib.pyplot as plt\n",
        "\n",
        "import warnings\n",
        "warnings.filterwarnings('ignore')\n",
        "\n",
        "#sklearn\n",
        "from sklearn.model_selection import train_test_split\n",
        "from sklearn.metrics import confusion_matrix\n",
        "from sklearn.metrics import accuracy_score\n",
        "from sklearn.metrics import classification_report"
      ]
    },
    {
      "cell_type": "markdown",
      "metadata": {
        "id": "FZLKxh6geiB9"
      },
      "source": [
        "#Data"
      ]
    },
    {
      "cell_type": "code",
      "execution_count": null,
      "metadata": {
        "colab": {
          "base_uri": "https://localhost:8080/",
          "height": 206
        },
        "id": "fS4pXdVqeYFK",
        "outputId": "d33653e1-e074-4f22-e405-5f6ef0b58387"
      },
      "outputs": [
        {
          "output_type": "execute_result",
          "data": {
            "text/html": [
              "\n",
              "  <div id=\"df-2a289408-b339-4dbf-8861-8ab4ea2e9f0e\">\n",
              "    <div class=\"colab-df-container\">\n",
              "      <div>\n",
              "<style scoped>\n",
              "    .dataframe tbody tr th:only-of-type {\n",
              "        vertical-align: middle;\n",
              "    }\n",
              "\n",
              "    .dataframe tbody tr th {\n",
              "        vertical-align: top;\n",
              "    }\n",
              "\n",
              "    .dataframe thead th {\n",
              "        text-align: right;\n",
              "    }\n",
              "</style>\n",
              "<table border=\"1\" class=\"dataframe\">\n",
              "  <thead>\n",
              "    <tr style=\"text-align: right;\">\n",
              "      <th></th>\n",
              "      <th>fixed acidity</th>\n",
              "      <th>volatile acidity</th>\n",
              "      <th>citric acid</th>\n",
              "      <th>residual sugar</th>\n",
              "      <th>chlorides</th>\n",
              "      <th>free sulfur dioxide</th>\n",
              "      <th>total sulfur dioxide</th>\n",
              "      <th>density</th>\n",
              "      <th>pH</th>\n",
              "      <th>sulphates</th>\n",
              "      <th>alcohol</th>\n",
              "      <th>quality</th>\n",
              "    </tr>\n",
              "  </thead>\n",
              "  <tbody>\n",
              "    <tr>\n",
              "      <th>0</th>\n",
              "      <td>7.4</td>\n",
              "      <td>0.70</td>\n",
              "      <td>0.00</td>\n",
              "      <td>1.9</td>\n",
              "      <td>0.076</td>\n",
              "      <td>11.0</td>\n",
              "      <td>34.0</td>\n",
              "      <td>0.9978</td>\n",
              "      <td>3.51</td>\n",
              "      <td>0.56</td>\n",
              "      <td>9.4</td>\n",
              "      <td>5</td>\n",
              "    </tr>\n",
              "    <tr>\n",
              "      <th>1</th>\n",
              "      <td>7.8</td>\n",
              "      <td>0.88</td>\n",
              "      <td>0.00</td>\n",
              "      <td>2.6</td>\n",
              "      <td>0.098</td>\n",
              "      <td>25.0</td>\n",
              "      <td>67.0</td>\n",
              "      <td>0.9968</td>\n",
              "      <td>3.20</td>\n",
              "      <td>0.68</td>\n",
              "      <td>9.8</td>\n",
              "      <td>5</td>\n",
              "    </tr>\n",
              "    <tr>\n",
              "      <th>2</th>\n",
              "      <td>7.8</td>\n",
              "      <td>0.76</td>\n",
              "      <td>0.04</td>\n",
              "      <td>2.3</td>\n",
              "      <td>0.092</td>\n",
              "      <td>15.0</td>\n",
              "      <td>54.0</td>\n",
              "      <td>0.9970</td>\n",
              "      <td>3.26</td>\n",
              "      <td>0.65</td>\n",
              "      <td>9.8</td>\n",
              "      <td>5</td>\n",
              "    </tr>\n",
              "    <tr>\n",
              "      <th>3</th>\n",
              "      <td>11.2</td>\n",
              "      <td>0.28</td>\n",
              "      <td>0.56</td>\n",
              "      <td>1.9</td>\n",
              "      <td>0.075</td>\n",
              "      <td>17.0</td>\n",
              "      <td>60.0</td>\n",
              "      <td>0.9980</td>\n",
              "      <td>3.16</td>\n",
              "      <td>0.58</td>\n",
              "      <td>9.8</td>\n",
              "      <td>6</td>\n",
              "    </tr>\n",
              "    <tr>\n",
              "      <th>4</th>\n",
              "      <td>7.4</td>\n",
              "      <td>0.70</td>\n",
              "      <td>0.00</td>\n",
              "      <td>1.9</td>\n",
              "      <td>0.076</td>\n",
              "      <td>11.0</td>\n",
              "      <td>34.0</td>\n",
              "      <td>0.9978</td>\n",
              "      <td>3.51</td>\n",
              "      <td>0.56</td>\n",
              "      <td>9.4</td>\n",
              "      <td>5</td>\n",
              "    </tr>\n",
              "  </tbody>\n",
              "</table>\n",
              "</div>\n",
              "      <button class=\"colab-df-convert\" onclick=\"convertToInteractive('df-2a289408-b339-4dbf-8861-8ab4ea2e9f0e')\"\n",
              "              title=\"Convert this dataframe to an interactive table.\"\n",
              "              style=\"display:none;\">\n",
              "        \n",
              "  <svg xmlns=\"http://www.w3.org/2000/svg\" height=\"24px\"viewBox=\"0 0 24 24\"\n",
              "       width=\"24px\">\n",
              "    <path d=\"M0 0h24v24H0V0z\" fill=\"none\"/>\n",
              "    <path d=\"M18.56 5.44l.94 2.06.94-2.06 2.06-.94-2.06-.94-.94-2.06-.94 2.06-2.06.94zm-11 1L8.5 8.5l.94-2.06 2.06-.94-2.06-.94L8.5 2.5l-.94 2.06-2.06.94zm10 10l.94 2.06.94-2.06 2.06-.94-2.06-.94-.94-2.06-.94 2.06-2.06.94z\"/><path d=\"M17.41 7.96l-1.37-1.37c-.4-.4-.92-.59-1.43-.59-.52 0-1.04.2-1.43.59L10.3 9.45l-7.72 7.72c-.78.78-.78 2.05 0 2.83L4 21.41c.39.39.9.59 1.41.59.51 0 1.02-.2 1.41-.59l7.78-7.78 2.81-2.81c.8-.78.8-2.07 0-2.86zM5.41 20L4 18.59l7.72-7.72 1.47 1.35L5.41 20z\"/>\n",
              "  </svg>\n",
              "      </button>\n",
              "      \n",
              "  <style>\n",
              "    .colab-df-container {\n",
              "      display:flex;\n",
              "      flex-wrap:wrap;\n",
              "      gap: 12px;\n",
              "    }\n",
              "\n",
              "    .colab-df-convert {\n",
              "      background-color: #E8F0FE;\n",
              "      border: none;\n",
              "      border-radius: 50%;\n",
              "      cursor: pointer;\n",
              "      display: none;\n",
              "      fill: #1967D2;\n",
              "      height: 32px;\n",
              "      padding: 0 0 0 0;\n",
              "      width: 32px;\n",
              "    }\n",
              "\n",
              "    .colab-df-convert:hover {\n",
              "      background-color: #E2EBFA;\n",
              "      box-shadow: 0px 1px 2px rgba(60, 64, 67, 0.3), 0px 1px 3px 1px rgba(60, 64, 67, 0.15);\n",
              "      fill: #174EA6;\n",
              "    }\n",
              "\n",
              "    [theme=dark] .colab-df-convert {\n",
              "      background-color: #3B4455;\n",
              "      fill: #D2E3FC;\n",
              "    }\n",
              "\n",
              "    [theme=dark] .colab-df-convert:hover {\n",
              "      background-color: #434B5C;\n",
              "      box-shadow: 0px 1px 3px 1px rgba(0, 0, 0, 0.15);\n",
              "      filter: drop-shadow(0px 1px 2px rgba(0, 0, 0, 0.3));\n",
              "      fill: #FFFFFF;\n",
              "    }\n",
              "  </style>\n",
              "\n",
              "      <script>\n",
              "        const buttonEl =\n",
              "          document.querySelector('#df-2a289408-b339-4dbf-8861-8ab4ea2e9f0e button.colab-df-convert');\n",
              "        buttonEl.style.display =\n",
              "          google.colab.kernel.accessAllowed ? 'block' : 'none';\n",
              "\n",
              "        async function convertToInteractive(key) {\n",
              "          const element = document.querySelector('#df-2a289408-b339-4dbf-8861-8ab4ea2e9f0e');\n",
              "          const dataTable =\n",
              "            await google.colab.kernel.invokeFunction('convertToInteractive',\n",
              "                                                     [key], {});\n",
              "          if (!dataTable) return;\n",
              "\n",
              "          const docLinkHtml = 'Like what you see? Visit the ' +\n",
              "            '<a target=\"_blank\" href=https://colab.research.google.com/notebooks/data_table.ipynb>data table notebook</a>'\n",
              "            + ' to learn more about interactive tables.';\n",
              "          element.innerHTML = '';\n",
              "          dataTable['output_type'] = 'display_data';\n",
              "          await google.colab.output.renderOutput(dataTable, element);\n",
              "          const docLink = document.createElement('div');\n",
              "          docLink.innerHTML = docLinkHtml;\n",
              "          element.appendChild(docLink);\n",
              "        }\n",
              "      </script>\n",
              "    </div>\n",
              "  </div>\n",
              "  "
            ],
            "text/plain": [
              "   fixed acidity  volatile acidity  citric acid  ...  sulphates  alcohol  quality\n",
              "0            7.4              0.70         0.00  ...       0.56      9.4        5\n",
              "1            7.8              0.88         0.00  ...       0.68      9.8        5\n",
              "2            7.8              0.76         0.04  ...       0.65      9.8        5\n",
              "3           11.2              0.28         0.56  ...       0.58      9.8        6\n",
              "4            7.4              0.70         0.00  ...       0.56      9.4        5\n",
              "\n",
              "[5 rows x 12 columns]"
            ]
          },
          "metadata": {},
          "execution_count": 227
        }
      ],
      "source": [
        "df = pd.read_csv('/content/winequality-red.csv')\n",
        "df.head()"
      ]
    },
    {
      "cell_type": "code",
      "source": [
        "sns.countplot(x = 'quality', data = df)\n",
        "plt.show()"
      ],
      "metadata": {
        "colab": {
          "base_uri": "https://localhost:8080/",
          "height": 279
        },
        "id": "0Mmuk8D9sIcT",
        "outputId": "6a1550ad-b5b2-420d-cb0a-4c4d5577d444"
      },
      "execution_count": null,
      "outputs": [
        {
          "output_type": "display_data",
          "data": {
            "image/png": "[encoded data removed]",
            "text/plain": [
              "<Figure size 432x288 with 1 Axes>"
            ]
          },
          "metadata": {
            "needs_background": "light"
          }
        }
      ]
    },
    {
      "cell_type": "code",
      "source": [
        "plt.figure(figsize=(20,10))\n",
        "plt.subplots_adjust(left=0, bottom=0.5, right=0.9, top=0.9, wspace=0.5, hspace=0.8)\n",
        "plt.subplot(141)\n",
        "plt.title('Percentage of good and bad quality wine',fontsize = 20)\n",
        "df['quality'].value_counts().plot.pie(autopct=\"%1.1f%%\")"
      ],
      "metadata": {
        "colab": {
          "base_uri": "https://localhost:8080/",
          "height": 307
        },
        "id": "g0reh2q_sJvW",
        "outputId": "0fc98fb4-c307-4e21-82f3-c5d3836d5136"
      },
      "execution_count": null,
      "outputs": [
        {
          "output_type": "execute_result",
          "data": {
            "text/plain": [
              "<matplotlib.axes._subplots.AxesSubplot at 0x7f7b847a7e90>"
            ]
          },
          "metadata": {},
          "execution_count": 229
        },
        {
          "output_type": "display_data",
          "data": {
            "image/png": "[encoded data removed]",
            "text/plain": [
              "<Figure size 1440x720 with 1 Axes>"
            ]
          },
          "metadata": {}
        }
      ]
    },
    {
      "cell_type": "code",
      "execution_count": null,
      "metadata": {
        "colab": {
          "base_uri": "https://localhost:8080/"
        },
        "id": "xIgSaN4JfPth",
        "outputId": "80bedda6-0e44-4199-f65e-206b89b9c6a5"
      },
      "outputs": [
        {
          "output_type": "stream",
          "name": "stdout",
          "text": [
            "<class 'pandas.core.frame.DataFrame'>\n",
            "RangeIndex: 1599 entries, 0 to 1598\n",
            "Data columns (total 12 columns):\n",
            " #   Column                Non-Null Count  Dtype  \n",
            "---  ------                --------------  -----  \n",
            " 0   fixed acidity         1599 non-null   float64\n",
            " 1   volatile acidity      1599 non-null   float64\n",
            " 2   citric acid           1599 non-null   float64\n",
            " 3   residual sugar        1599 non-null   float64\n",
            " 4   chlorides             1599 non-null   float64\n",
            " 5   free sulfur dioxide   1599 non-null   float64\n",
            " 6   total sulfur dioxide  1599 non-null   float64\n",
            " 7   density               1599 non-null   float64\n",
            " 8   pH                    1599 non-null   float64\n",
            " 9   sulphates             1599 non-null   float64\n",
            " 10  alcohol               1599 non-null   float64\n",
            " 11  quality               1599 non-null   int64  \n",
            "dtypes: float64(11), int64(1)\n",
            "memory usage: 150.0 KB\n"
          ]
        }
      ],
      "source": [
        "df.info()"
      ]
    },
    {
      "cell_type": "code",
      "execution_count": null,
      "metadata": {
        "colab": {
          "base_uri": "https://localhost:8080/",
          "height": 362
        },
        "id": "8wItLQBifHTr",
        "outputId": "f716a8c7-fed6-41a0-b27f-6d9c000489b1"
      },
      "outputs": [
        {
          "output_type": "execute_result",
          "data": {
            "text/html": [
              "\n",
              "  <div id=\"df-5e764327-1b74-400d-b744-7901969c717e\">\n",
              "    <div class=\"colab-df-container\">\n",
              "      <div>\n",
              "<style scoped>\n",
              "    .dataframe tbody tr th:only-of-type {\n",
              "        vertical-align: middle;\n",
              "    }\n",
              "\n",
              "    .dataframe tbody tr th {\n",
              "        vertical-align: top;\n",
              "    }\n",
              "\n",
              "    .dataframe thead th {\n",
              "        text-align: right;\n",
              "    }\n",
              "</style>\n",
              "<table border=\"1\" class=\"dataframe\">\n",
              "  <thead>\n",
              "    <tr style=\"text-align: right;\">\n",
              "      <th></th>\n",
              "      <th>fixed acidity</th>\n",
              "      <th>volatile acidity</th>\n",
              "      <th>citric acid</th>\n",
              "      <th>residual sugar</th>\n",
              "      <th>chlorides</th>\n",
              "      <th>free sulfur dioxide</th>\n",
              "      <th>total sulfur dioxide</th>\n",
              "      <th>density</th>\n",
              "      <th>pH</th>\n",
              "      <th>sulphates</th>\n",
              "      <th>alcohol</th>\n",
              "      <th>quality</th>\n",
              "    </tr>\n",
              "  </thead>\n",
              "  <tbody>\n",
              "    <tr>\n",
              "      <th>count</th>\n",
              "      <td>1599.000000</td>\n",
              "      <td>1599.000000</td>\n",
              "      <td>1599.000000</td>\n",
              "      <td>1599.000000</td>\n",
              "      <td>1599.000000</td>\n",
              "      <td>1599.000000</td>\n",
              "      <td>1599.000000</td>\n",
              "      <td>1599.000000</td>\n",
              "      <td>1599.000000</td>\n",
              "      <td>1599.000000</td>\n",
              "      <td>1599.000000</td>\n",
              "      <td>1599.000000</td>\n",
              "    </tr>\n",
              "    <tr>\n",
              "      <th>mean</th>\n",
              "      <td>8.319637</td>\n",
              "      <td>0.527821</td>\n",
              "      <td>0.270976</td>\n",
              "      <td>2.538806</td>\n",
              "      <td>0.087467</td>\n",
              "      <td>15.874922</td>\n",
              "      <td>46.467792</td>\n",
              "      <td>0.996747</td>\n",
              "      <td>3.311113</td>\n",
              "      <td>0.658149</td>\n",
              "      <td>10.422983</td>\n",
              "      <td>5.636023</td>\n",
              "    </tr>\n",
              "    <tr>\n",
              "      <th>std</th>\n",
              "      <td>1.741096</td>\n",
              "      <td>0.179060</td>\n",
              "      <td>0.194801</td>\n",
              "      <td>1.409928</td>\n",
              "      <td>0.047065</td>\n",
              "      <td>10.460157</td>\n",
              "      <td>32.895324</td>\n",
              "      <td>0.001887</td>\n",
              "      <td>0.154386</td>\n",
              "      <td>0.169507</td>\n",
              "      <td>1.065668</td>\n",
              "      <td>0.807569</td>\n",
              "    </tr>\n",
              "    <tr>\n",
              "      <th>min</th>\n",
              "      <td>4.600000</td>\n",
              "      <td>0.120000</td>\n",
              "      <td>0.000000</td>\n",
              "      <td>0.900000</td>\n",
              "      <td>0.012000</td>\n",
              "      <td>1.000000</td>\n",
              "      <td>6.000000</td>\n",
              "      <td>0.990070</td>\n",
              "      <td>2.740000</td>\n",
              "      <td>0.330000</td>\n",
              "      <td>8.400000</td>\n",
              "      <td>3.000000</td>\n",
              "    </tr>\n",
              "    <tr>\n",
              "      <th>25%</th>\n",
              "      <td>7.100000</td>\n",
              "      <td>0.390000</td>\n",
              "      <td>0.090000</td>\n",
              "      <td>1.900000</td>\n",
              "      <td>0.070000</td>\n",
              "      <td>7.000000</td>\n",
              "      <td>22.000000</td>\n",
              "      <td>0.995600</td>\n",
              "      <td>3.210000</td>\n",
              "      <td>0.550000</td>\n",
              "      <td>9.500000</td>\n",
              "      <td>5.000000</td>\n",
              "    </tr>\n",
              "    <tr>\n",
              "      <th>50%</th>\n",
              "      <td>7.900000</td>\n",
              "      <td>0.520000</td>\n",
              "      <td>0.260000</td>\n",
              "      <td>2.200000</td>\n",
              "      <td>0.079000</td>\n",
              "      <td>14.000000</td>\n",
              "      <td>38.000000</td>\n",
              "      <td>0.996750</td>\n",
              "      <td>3.310000</td>\n",
              "      <td>0.620000</td>\n",
              "      <td>10.200000</td>\n",
              "      <td>6.000000</td>\n",
              "    </tr>\n",
              "    <tr>\n",
              "      <th>75%</th>\n",
              "      <td>9.200000</td>\n",
              "      <td>0.640000</td>\n",
              "      <td>0.420000</td>\n",
              "      <td>2.600000</td>\n",
              "      <td>0.090000</td>\n",
              "      <td>21.000000</td>\n",
              "      <td>62.000000</td>\n",
              "      <td>0.997835</td>\n",
              "      <td>3.400000</td>\n",
              "      <td>0.730000</td>\n",
              "      <td>11.100000</td>\n",
              "      <td>6.000000</td>\n",
              "    </tr>\n",
              "    <tr>\n",
              "      <th>max</th>\n",
              "      <td>15.900000</td>\n",
              "      <td>1.580000</td>\n",
              "      <td>1.000000</td>\n",
              "      <td>15.500000</td>\n",
              "      <td>0.611000</td>\n",
              "      <td>72.000000</td>\n",
              "      <td>289.000000</td>\n",
              "      <td>1.003690</td>\n",
              "      <td>4.010000</td>\n",
              "      <td>2.000000</td>\n",
              "      <td>14.900000</td>\n",
              "      <td>8.000000</td>\n",
              "    </tr>\n",
              "  </tbody>\n",
              "</table>\n",
              "</div>\n",
              "      <button class=\"colab-df-convert\" onclick=\"convertToInteractive('df-5e764327-1b74-400d-b744-7901969c717e')\"\n",
              "              title=\"Convert this dataframe to an interactive table.\"\n",
              "              style=\"display:none;\">\n",
              "        \n",
              "  <svg xmlns=\"http://www.w3.org/2000/svg\" height=\"24px\"viewBox=\"0 0 24 24\"\n",
              "       width=\"24px\">\n",
              "    <path d=\"M0 0h24v24H0V0z\" fill=\"none\"/>\n",
              "    <path d=\"M18.56 5.44l.94 2.06.94-2.06 2.06-.94-2.06-.94-.94-2.06-.94 2.06-2.06.94zm-11 1L8.5 8.5l.94-2.06 2.06-.94-2.06-.94L8.5 2.5l-.94 2.06-2.06.94zm10 10l.94 2.06.94-2.06 2.06-.94-2.06-.94-.94-2.06-.94 2.06-2.06.94z\"/><path d=\"M17.41 7.96l-1.37-1.37c-.4-.4-.92-.59-1.43-.59-.52 0-1.04.2-1.43.59L10.3 9.45l-7.72 7.72c-.78.78-.78 2.05 0 2.83L4 21.41c.39.39.9.59 1.41.59.51 0 1.02-.2 1.41-.59l7.78-7.78 2.81-2.81c.8-.78.8-2.07 0-2.86zM5.41 20L4 18.59l7.72-7.72 1.47 1.35L5.41 20z\"/>\n",
              "  </svg>\n",
              "      </button>\n",
              "      \n",
              "  <style>\n",
              "    .colab-df-container {\n",
              "      display:flex;\n",
              "      flex-wrap:wrap;\n",
              "      gap: 12px;\n",
              "    }\n",
              "\n",
              "    .colab-df-convert {\n",
              "      background-color: #E8F0FE;\n",
              "      border: none;\n",
              "      border-radius: 50%;\n",
              "      cursor: pointer;\n",
              "      display: none;\n",
              "      fill: #1967D2;\n",
              "      height: 32px;\n",
              "      padding: 0 0 0 0;\n",
              "      width: 32px;\n",
              "    }\n",
              "\n",
              "    .colab-df-convert:hover {\n",
              "      background-color: #E2EBFA;\n",
              "      box-shadow: 0px 1px 2px rgba(60, 64, 67, 0.3), 0px 1px 3px 1px rgba(60, 64, 67, 0.15);\n",
              "      fill: #174EA6;\n",
              "    }\n",
              "\n",
              "    [theme=dark] .colab-df-convert {\n",
              "      background-color: #3B4455;\n",
              "      fill: #D2E3FC;\n",
              "    }\n",
              "\n",
              "    [theme=dark] .colab-df-convert:hover {\n",
              "      background-color: #434B5C;\n",
              "      box-shadow: 0px 1px 3px 1px rgba(0, 0, 0, 0.15);\n",
              "      filter: drop-shadow(0px 1px 2px rgba(0, 0, 0, 0.3));\n",
              "      fill: #FFFFFF;\n",
              "    }\n",
              "  </style>\n",
              "\n",
              "      <script>\n",
              "        const buttonEl =\n",
              "          document.querySelector('#df-5e764327-1b74-400d-b744-7901969c717e button.colab-df-convert');\n",
              "        buttonEl.style.display =\n",
              "          google.colab.kernel.accessAllowed ? 'block' : 'none';\n",
              "\n",
              "        async function convertToInteractive(key) {\n",
              "          const element = document.querySelector('#df-5e764327-1b74-400d-b744-7901969c717e');\n",
              "          const dataTable =\n",
              "            await google.colab.kernel.invokeFunction('convertToInteractive',\n",
              "                                                     [key], {});\n",
              "          if (!dataTable) return;\n",
              "\n",
              "          const docLinkHtml = 'Like what you see? Visit the ' +\n",
              "            '<a target=\"_blank\" href=https://colab.research.google.com/notebooks/data_table.ipynb>data table notebook</a>'\n",
              "            + ' to learn more about interactive tables.';\n",
              "          element.innerHTML = '';\n",
              "          dataTable['output_type'] = 'display_data';\n",
              "          await google.colab.output.renderOutput(dataTable, element);\n",
              "          const docLink = document.createElement('div');\n",
              "          docLink.innerHTML = docLinkHtml;\n",
              "          element.appendChild(docLink);\n",
              "        }\n",
              "      </script>\n",
              "    </div>\n",
              "  </div>\n",
              "  "
            ],
            "text/plain": [
              "       fixed acidity  volatile acidity  ...      alcohol      quality\n",
              "count    1599.000000       1599.000000  ...  1599.000000  1599.000000\n",
              "mean        8.319637          0.527821  ...    10.422983     5.636023\n",
              "std         1.741096          0.179060  ...     1.065668     0.807569\n",
              "min         4.600000          0.120000  ...     8.400000     3.000000\n",
              "25%         7.100000          0.390000  ...     9.500000     5.000000\n",
              "50%         7.900000          0.520000  ...    10.200000     6.000000\n",
              "75%         9.200000          0.640000  ...    11.100000     6.000000\n",
              "max        15.900000          1.580000  ...    14.900000     8.000000\n",
              "\n",
              "[8 rows x 12 columns]"
            ]
          },
          "metadata": {},
          "execution_count": 231
        }
      ],
      "source": [
        "df.describe()"
      ]
    },
    {
      "cell_type": "code",
      "execution_count": null,
      "metadata": {
        "colab": {
          "base_uri": "https://localhost:8080/"
        },
        "id": "eUznk_Vde8wH",
        "outputId": "e3fb69a1-a2f4-46d5-a6e3-8eaca24eaf5e"
      },
      "outputs": [
        {
          "output_type": "execute_result",
          "data": {
            "text/plain": [
              "fixed acidity           0\n",
              "volatile acidity        0\n",
              "citric acid             0\n",
              "residual sugar          0\n",
              "chlorides               0\n",
              "free sulfur dioxide     0\n",
              "total sulfur dioxide    0\n",
              "density                 0\n",
              "pH                      0\n",
              "sulphates               0\n",
              "alcohol                 0\n",
              "quality                 0\n",
              "dtype: int64"
            ]
          },
          "metadata": {},
          "execution_count": 232
        }
      ],
      "source": [
        "# cek data kosong\n",
        "df.isnull().sum()"
      ]
    },
    {
      "cell_type": "code",
      "execution_count": null,
      "metadata": {
        "colab": {
          "base_uri": "https://localhost:8080/"
        },
        "id": "QLgkrsV-gEAz",
        "outputId": "3468977a-fe12-4217-b533-797a7e213c1a"
      },
      "outputs": [
        {
          "output_type": "execute_result",
          "data": {
            "text/plain": [
              "(1359, 12)"
            ]
          },
          "metadata": {},
          "execution_count": 233
        }
      ],
      "source": [
        "#menghapus data yang sama\n",
        "df.drop_duplicates(inplace=True)\n",
        "df.shape"
      ]
    },
    {
      "cell_type": "code",
      "execution_count": null,
      "metadata": {
        "id": "estqQiYde42t"
      },
      "outputs": [],
      "source": [
        "df['quality'][df['quality'] <= 6.5]= 0 #bad quality\n",
        "df['quality'][df['quality'] > 6.5]= 1 #good quality"
      ]
    },
    {
      "cell_type": "markdown",
      "metadata": {
        "id": "R3eR5L1Ig2r4"
      },
      "source": [
        "#EDA"
      ]
    },
    {
      "cell_type": "code",
      "execution_count": null,
      "metadata": {
        "id": "KZSkalVbkSwj",
        "colab": {
          "base_uri": "https://localhost:8080/"
        },
        "outputId": "e3c90d3e-1a5e-4ec2-e94a-449b289bb239"
      },
      "outputs": [
        {
          "output_type": "execute_result",
          "data": {
            "text/plain": [
              "0    1175\n",
              "1     184\n",
              "Name: quality, dtype: int64"
            ]
          },
          "metadata": {},
          "execution_count": 235
        }
      ],
      "source": [
        "df['quality'].value_counts()"
      ]
    },
    {
      "cell_type": "code",
      "execution_count": null,
      "metadata": {
        "id": "VttnebXHloX9",
        "colab": {
          "base_uri": "https://localhost:8080/",
          "height": 279
        },
        "outputId": "da9f2364-651b-4255-b8fc-88caae760ddf"
      },
      "outputs": [
        {
          "output_type": "display_data",
          "data": {
            "image/png": "[encoded data removed]",
            "text/plain": [
              "<Figure size 432x288 with 1 Axes>"
            ]
          },
          "metadata": {
            "needs_background": "light"
          }
        }
      ],
      "source": [
        "sns.countplot(x = 'quality', data = df)\n",
        "plt.show()"
      ]
    },
    {
      "cell_type": "code",
      "source": [
        "plt.figure(figsize=(20,10))\n",
        "plt.subplots_adjust(left=0, bottom=0.5, right=0.9, top=0.9, wspace=0.5, hspace=0.8)\n",
        "plt.subplot(141)\n",
        "plt.title('Percentage of good and bad quality wine',fontsize = 20)\n",
        "df['quality'].value_counts().plot.pie(autopct=\"%1.1f%%\")"
      ],
      "metadata": {
        "id": "Vm6ukKQ5ryl0",
        "colab": {
          "base_uri": "https://localhost:8080/",
          "height": 307
        },
        "outputId": "d63e1ab3-67fb-4d30-b55a-e098a8e27a01"
      },
      "execution_count": null,
      "outputs": [
        {
          "output_type": "execute_result",
          "data": {
            "text/plain": [
              "<matplotlib.axes._subplots.AxesSubplot at 0x7f7b833a3e50>"
            ]
          },
          "metadata": {},
          "execution_count": 237
        },
        {
          "output_type": "display_data",
          "data": {
            "image/png": "[encoded data removed]",
            "text/plain": [
              "<Figure size 1440x720 with 1 Axes>"
            ]
          },
          "metadata": {}
        }
      ]
    },
    {
      "cell_type": "code",
      "execution_count": null,
      "metadata": {
        "id": "ugjjnrNKm6GH",
        "colab": {
          "base_uri": "https://localhost:8080/",
          "height": 1000
        },
        "outputId": "64a35b27-6746-4da1-994c-802f5e6a621b"
      },
      "outputs": [
        {
          "output_type": "display_data",
          "data": {
            "image/png": "[encoded data removed]",
            "text/plain": [
              "<Figure size 1440x1440 with 12 Axes>"
            ]
          },
          "metadata": {
            "needs_background": "light"
          }
        }
      ],
      "source": [
        "df.hist(bins= 10, figsize=(20,20))\n",
        "plt.show()"
      ]
    },
    {
      "cell_type": "code",
      "source": [
        "sns.scatterplot(data=df, x='density', y='alcohol', hue='quality')\n",
        "plt.show()"
      ],
      "metadata": {
        "id": "gTZ6iIXXq31b",
        "colab": {
          "base_uri": "https://localhost:8080/",
          "height": 279
        },
        "outputId": "5791d3a1-fd7f-45f8-9a23-2ffdb4b507b3"
      },
      "execution_count": null,
      "outputs": [
        {
          "output_type": "display_data",
          "data": {
            "image/png": "[encoded data removed]",
            "text/plain": [
              "<Figure size 432x288 with 1 Axes>"
            ]
          },
          "metadata": {
            "needs_background": "light"
          }
        }
      ]
    },
    {
      "cell_type": "code",
      "execution_count": null,
      "metadata": {
        "id": "u2eDADoGp9kD",
        "colab": {
          "base_uri": "https://localhost:8080/",
          "height": 697
        },
        "outputId": "d0e97ead-a375-4431-8e9d-8e0ea4bd7ddd"
      },
      "outputs": [
        {
          "output_type": "execute_result",
          "data": {
            "text/plain": [
              "<matplotlib.axes._subplots.AxesSubplot at 0x7f7b8486fe50>"
            ]
          },
          "metadata": {},
          "execution_count": 240
        },
        {
          "output_type": "display_data",
          "data": {
            "image/png": "[encoded data removed]",
            "text/plain": [
              "<Figure size 1080x720 with 2 Axes>"
            ]
          },
          "metadata": {
            "needs_background": "light"
          }
        }
      ],
      "source": [
        "plt.figure(figsize=(15,10))\n",
        "sns.heatmap(df.corr(), annot=True)"
      ]
    },
    {
      "cell_type": "markdown",
      "metadata": {
        "id": "xNUQzRP0oQWe"
      },
      "source": [
        "#Model"
      ]
    },
    {
      "cell_type": "code",
      "execution_count": null,
      "metadata": {
        "id": "ITY1PHxl3uTr",
        "colab": {
          "base_uri": "https://localhost:8080/",
          "height": 112
        },
        "outputId": "ecfc71eb-45b6-4b6c-db39-9693612f9c58"
      },
      "outputs": [
        {
          "output_type": "execute_result",
          "data": {
            "text/html": [
              "\n",
              "  <div id=\"df-dd76ded0-a69d-4530-be10-6cbb123fd279\">\n",
              "    <div class=\"colab-df-container\">\n",
              "      <div>\n",
              "<style scoped>\n",
              "    .dataframe tbody tr th:only-of-type {\n",
              "        vertical-align: middle;\n",
              "    }\n",
              "\n",
              "    .dataframe tbody tr th {\n",
              "        vertical-align: top;\n",
              "    }\n",
              "\n",
              "    .dataframe thead th {\n",
              "        text-align: right;\n",
              "    }\n",
              "</style>\n",
              "<table border=\"1\" class=\"dataframe\">\n",
              "  <thead>\n",
              "    <tr style=\"text-align: right;\">\n",
              "      <th></th>\n",
              "      <th>fixed acidity</th>\n",
              "      <th>volatile acidity</th>\n",
              "      <th>citric acid</th>\n",
              "      <th>total sulfur dioxide</th>\n",
              "      <th>density</th>\n",
              "      <th>sulphates</th>\n",
              "      <th>alcohol</th>\n",
              "      <th>quality</th>\n",
              "    </tr>\n",
              "  </thead>\n",
              "  <tbody>\n",
              "    <tr>\n",
              "      <th>0</th>\n",
              "      <td>7.4</td>\n",
              "      <td>0.70</td>\n",
              "      <td>0.0</td>\n",
              "      <td>34.0</td>\n",
              "      <td>0.9978</td>\n",
              "      <td>0.56</td>\n",
              "      <td>9.4</td>\n",
              "      <td>0</td>\n",
              "    </tr>\n",
              "    <tr>\n",
              "      <th>1</th>\n",
              "      <td>7.8</td>\n",
              "      <td>0.88</td>\n",
              "      <td>0.0</td>\n",
              "      <td>67.0</td>\n",
              "      <td>0.9968</td>\n",
              "      <td>0.68</td>\n",
              "      <td>9.8</td>\n",
              "      <td>0</td>\n",
              "    </tr>\n",
              "  </tbody>\n",
              "</table>\n",
              "</div>\n",
              "      <button class=\"colab-df-convert\" onclick=\"convertToInteractive('df-dd76ded0-a69d-4530-be10-6cbb123fd279')\"\n",
              "              title=\"Convert this dataframe to an interactive table.\"\n",
              "              style=\"display:none;\">\n",
              "        \n",
              "  <svg xmlns=\"http://www.w3.org/2000/svg\" height=\"24px\"viewBox=\"0 0 24 24\"\n",
              "       width=\"24px\">\n",
              "    <path d=\"M0 0h24v24H0V0z\" fill=\"none\"/>\n",
              "    <path d=\"M18.56 5.44l.94 2.06.94-2.06 2.06-.94-2.06-.94-.94-2.06-.94 2.06-2.06.94zm-11 1L8.5 8.5l.94-2.06 2.06-.94-2.06-.94L8.5 2.5l-.94 2.06-2.06.94zm10 10l.94 2.06.94-2.06 2.06-.94-2.06-.94-.94-2.06-.94 2.06-2.06.94z\"/><path d=\"M17.41 7.96l-1.37-1.37c-.4-.4-.92-.59-1.43-.59-.52 0-1.04.2-1.43.59L10.3 9.45l-7.72 7.72c-.78.78-.78 2.05 0 2.83L4 21.41c.39.39.9.59 1.41.59.51 0 1.02-.2 1.41-.59l7.78-7.78 2.81-2.81c.8-.78.8-2.07 0-2.86zM5.41 20L4 18.59l7.72-7.72 1.47 1.35L5.41 20z\"/>\n",
              "  </svg>\n",
              "      </button>\n",
              "      \n",
              "  <style>\n",
              "    .colab-df-container {\n",
              "      display:flex;\n",
              "      flex-wrap:wrap;\n",
              "      gap: 12px;\n",
              "    }\n",
              "\n",
              "    .colab-df-convert {\n",
              "      background-color: #E8F0FE;\n",
              "      border: none;\n",
              "      border-radius: 50%;\n",
              "      cursor: pointer;\n",
              "      display: none;\n",
              "      fill: #1967D2;\n",
              "      height: 32px;\n",
              "      padding: 0 0 0 0;\n",
              "      width: 32px;\n",
              "    }\n",
              "\n",
              "    .colab-df-convert:hover {\n",
              "      background-color: #E2EBFA;\n",
              "      box-shadow: 0px 1px 2px rgba(60, 64, 67, 0.3), 0px 1px 3px 1px rgba(60, 64, 67, 0.15);\n",
              "      fill: #174EA6;\n",
              "    }\n",
              "\n",
              "    [theme=dark] .colab-df-convert {\n",
              "      background-color: #3B4455;\n",
              "      fill: #D2E3FC;\n",
              "    }\n",
              "\n",
              "    [theme=dark] .colab-df-convert:hover {\n",
              "      background-color: #434B5C;\n",
              "      box-shadow: 0px 1px 3px 1px rgba(0, 0, 0, 0.15);\n",
              "      filter: drop-shadow(0px 1px 2px rgba(0, 0, 0, 0.3));\n",
              "      fill: #FFFFFF;\n",
              "    }\n",
              "  </style>\n",
              "\n",
              "      <script>\n",
              "        const buttonEl =\n",
              "          document.querySelector('#df-dd76ded0-a69d-4530-be10-6cbb123fd279 button.colab-df-convert');\n",
              "        buttonEl.style.display =\n",
              "          google.colab.kernel.accessAllowed ? 'block' : 'none';\n",
              "\n",
              "        async function convertToInteractive(key) {\n",
              "          const element = document.querySelector('#df-dd76ded0-a69d-4530-be10-6cbb123fd279');\n",
              "          const dataTable =\n",
              "            await google.colab.kernel.invokeFunction('convertToInteractive',\n",
              "                                                     [key], {});\n",
              "          if (!dataTable) return;\n",
              "\n",
              "          const docLinkHtml = 'Like what you see? Visit the ' +\n",
              "            '<a target=\"_blank\" href=https://colab.research.google.com/notebooks/data_table.ipynb>data table notebook</a>'\n",
              "            + ' to learn more about interactive tables.';\n",
              "          element.innerHTML = '';\n",
              "          dataTable['output_type'] = 'display_data';\n",
              "          await google.colab.output.renderOutput(dataTable, element);\n",
              "          const docLink = document.createElement('div');\n",
              "          docLink.innerHTML = docLinkHtml;\n",
              "          element.appendChild(docLink);\n",
              "        }\n",
              "      </script>\n",
              "    </div>\n",
              "  </div>\n",
              "  "
            ],
            "text/plain": [
              "   fixed acidity  volatile acidity  citric acid  ...  sulphates  alcohol  quality\n",
              "0            7.4              0.70          0.0  ...       0.56      9.4        0\n",
              "1            7.8              0.88          0.0  ...       0.68      9.8        0\n",
              "\n",
              "[2 rows x 8 columns]"
            ]
          },
          "metadata": {},
          "execution_count": 358
        }
      ],
      "source": [
        "df2 = df.drop(['residual sugar', 'chlorides', 'free sulfur dioxide', 'pH'], axis=1)\n",
        "df2.head(2)"
      ]
    },
    {
      "cell_type": "code",
      "execution_count": null,
      "metadata": {
        "id": "JHmgU3aB2jBf",
        "colab": {
          "base_uri": "https://localhost:8080/",
          "height": 175
        },
        "outputId": "58528559-f794-4005-9fdc-a9d8dbe1ba9f"
      },
      "outputs": [
        {
          "output_type": "execute_result",
          "data": {
            "text/html": [
              "\n",
              "  <div id=\"df-dd394142-5d30-4284-9ade-c5646b793c05\">\n",
              "    <div class=\"colab-df-container\">\n",
              "      <div>\n",
              "<style scoped>\n",
              "    .dataframe tbody tr th:only-of-type {\n",
              "        vertical-align: middle;\n",
              "    }\n",
              "\n",
              "    .dataframe tbody tr th {\n",
              "        vertical-align: top;\n",
              "    }\n",
              "\n",
              "    .dataframe thead th {\n",
              "        text-align: right;\n",
              "    }\n",
              "</style>\n",
              "<table border=\"1\" class=\"dataframe\">\n",
              "  <thead>\n",
              "    <tr style=\"text-align: right;\">\n",
              "      <th></th>\n",
              "      <th>fixed acidity</th>\n",
              "      <th>volatile acidity</th>\n",
              "      <th>citric acid</th>\n",
              "      <th>total sulfur dioxide</th>\n",
              "      <th>density</th>\n",
              "      <th>sulphates</th>\n",
              "      <th>alcohol</th>\n",
              "    </tr>\n",
              "  </thead>\n",
              "  <tbody>\n",
              "    <tr>\n",
              "      <th>0</th>\n",
              "      <td>7.4</td>\n",
              "      <td>0.70</td>\n",
              "      <td>0.00</td>\n",
              "      <td>34.0</td>\n",
              "      <td>0.9978</td>\n",
              "      <td>0.56</td>\n",
              "      <td>9.4</td>\n",
              "    </tr>\n",
              "    <tr>\n",
              "      <th>1</th>\n",
              "      <td>7.8</td>\n",
              "      <td>0.88</td>\n",
              "      <td>0.00</td>\n",
              "      <td>67.0</td>\n",
              "      <td>0.9968</td>\n",
              "      <td>0.68</td>\n",
              "      <td>9.8</td>\n",
              "    </tr>\n",
              "    <tr>\n",
              "      <th>2</th>\n",
              "      <td>7.8</td>\n",
              "      <td>0.76</td>\n",
              "      <td>0.04</td>\n",
              "      <td>54.0</td>\n",
              "      <td>0.9970</td>\n",
              "      <td>0.65</td>\n",
              "      <td>9.8</td>\n",
              "    </tr>\n",
              "    <tr>\n",
              "      <th>3</th>\n",
              "      <td>11.2</td>\n",
              "      <td>0.28</td>\n",
              "      <td>0.56</td>\n",
              "      <td>60.0</td>\n",
              "      <td>0.9980</td>\n",
              "      <td>0.58</td>\n",
              "      <td>9.8</td>\n",
              "    </tr>\n",
              "  </tbody>\n",
              "</table>\n",
              "</div>\n",
              "      <button class=\"colab-df-convert\" onclick=\"convertToInteractive('df-dd394142-5d30-4284-9ade-c5646b793c05')\"\n",
              "              title=\"Convert this dataframe to an interactive table.\"\n",
              "              style=\"display:none;\">\n",
              "        \n",
              "  <svg xmlns=\"http://www.w3.org/2000/svg\" height=\"24px\"viewBox=\"0 0 24 24\"\n",
              "       width=\"24px\">\n",
              "    <path d=\"M0 0h24v24H0V0z\" fill=\"none\"/>\n",
              "    <path d=\"M18.56 5.44l.94 2.06.94-2.06 2.06-.94-2.06-.94-.94-2.06-.94 2.06-2.06.94zm-11 1L8.5 8.5l.94-2.06 2.06-.94-2.06-.94L8.5 2.5l-.94 2.06-2.06.94zm10 10l.94 2.06.94-2.06 2.06-.94-2.06-.94-.94-2.06-.94 2.06-2.06.94z\"/><path d=\"M17.41 7.96l-1.37-1.37c-.4-.4-.92-.59-1.43-.59-.52 0-1.04.2-1.43.59L10.3 9.45l-7.72 7.72c-.78.78-.78 2.05 0 2.83L4 21.41c.39.39.9.59 1.41.59.51 0 1.02-.2 1.41-.59l7.78-7.78 2.81-2.81c.8-.78.8-2.07 0-2.86zM5.41 20L4 18.59l7.72-7.72 1.47 1.35L5.41 20z\"/>\n",
              "  </svg>\n",
              "      </button>\n",
              "      \n",
              "  <style>\n",
              "    .colab-df-container {\n",
              "      display:flex;\n",
              "      flex-wrap:wrap;\n",
              "      gap: 12px;\n",
              "    }\n",
              "\n",
              "    .colab-df-convert {\n",
              "      background-color: #E8F0FE;\n",
              "      border: none;\n",
              "      border-radius: 50%;\n",
              "      cursor: pointer;\n",
              "      display: none;\n",
              "      fill: #1967D2;\n",
              "      height: 32px;\n",
              "      padding: 0 0 0 0;\n",
              "      width: 32px;\n",
              "    }\n",
              "\n",
              "    .colab-df-convert:hover {\n",
              "      background-color: #E2EBFA;\n",
              "      box-shadow: 0px 1px 2px rgba(60, 64, 67, 0.3), 0px 1px 3px 1px rgba(60, 64, 67, 0.15);\n",
              "      fill: #174EA6;\n",
              "    }\n",
              "\n",
              "    [theme=dark] .colab-df-convert {\n",
              "      background-color: #3B4455;\n",
              "      fill: #D2E3FC;\n",
              "    }\n",
              "\n",
              "    [theme=dark] .colab-df-convert:hover {\n",
              "      background-color: #434B5C;\n",
              "      box-shadow: 0px 1px 3px 1px rgba(0, 0, 0, 0.15);\n",
              "      filter: drop-shadow(0px 1px 2px rgba(0, 0, 0, 0.3));\n",
              "      fill: #FFFFFF;\n",
              "    }\n",
              "  </style>\n",
              "\n",
              "      <script>\n",
              "        const buttonEl =\n",
              "          document.querySelector('#df-dd394142-5d30-4284-9ade-c5646b793c05 button.colab-df-convert');\n",
              "        buttonEl.style.display =\n",
              "          google.colab.kernel.accessAllowed ? 'block' : 'none';\n",
              "\n",
              "        async function convertToInteractive(key) {\n",
              "          const element = document.querySelector('#df-dd394142-5d30-4284-9ade-c5646b793c05');\n",
              "          const dataTable =\n",
              "            await google.colab.kernel.invokeFunction('convertToInteractive',\n",
              "                                                     [key], {});\n",
              "          if (!dataTable) return;\n",
              "\n",
              "          const docLinkHtml = 'Like what you see? Visit the ' +\n",
              "            '<a target=\"_blank\" href=https://colab.research.google.com/notebooks/data_table.ipynb>data table notebook</a>'\n",
              "            + ' to learn more about interactive tables.';\n",
              "          element.innerHTML = '';\n",
              "          dataTable['output_type'] = 'display_data';\n",
              "          await google.colab.output.renderOutput(dataTable, element);\n",
              "          const docLink = document.createElement('div');\n",
              "          docLink.innerHTML = docLinkHtml;\n",
              "          element.appendChild(docLink);\n",
              "        }\n",
              "      </script>\n",
              "    </div>\n",
              "  </div>\n",
              "  "
            ],
            "text/plain": [
              "   fixed acidity  volatile acidity  citric acid  ...  density  sulphates  alcohol\n",
              "0            7.4              0.70         0.00  ...   0.9978       0.56      9.4\n",
              "1            7.8              0.88         0.00  ...   0.9968       0.68      9.8\n",
              "2            7.8              0.76         0.04  ...   0.9970       0.65      9.8\n",
              "3           11.2              0.28         0.56  ...   0.9980       0.58      9.8\n",
              "\n",
              "[4 rows x 7 columns]"
            ]
          },
          "metadata": {},
          "execution_count": 359
        }
      ],
      "source": [
        "x = df2.drop('quality', axis=1)\n",
        "x.head(4)"
      ]
    },
    {
      "cell_type": "code",
      "execution_count": null,
      "metadata": {
        "id": "Qpi0vjJX3kOQ",
        "colab": {
          "base_uri": "https://localhost:8080/",
          "height": 175
        },
        "outputId": "0da2e7bf-6441-499c-866c-d623c6afb23c"
      },
      "outputs": [
        {
          "output_type": "execute_result",
          "data": {
            "text/html": [
              "\n",
              "  <div id=\"df-6b0682cb-cf07-4b84-b602-6ede1721cc2c\">\n",
              "    <div class=\"colab-df-container\">\n",
              "      <div>\n",
              "<style scoped>\n",
              "    .dataframe tbody tr th:only-of-type {\n",
              "        vertical-align: middle;\n",
              "    }\n",
              "\n",
              "    .dataframe tbody tr th {\n",
              "        vertical-align: top;\n",
              "    }\n",
              "\n",
              "    .dataframe thead th {\n",
              "        text-align: right;\n",
              "    }\n",
              "</style>\n",
              "<table border=\"1\" class=\"dataframe\">\n",
              "  <thead>\n",
              "    <tr style=\"text-align: right;\">\n",
              "      <th></th>\n",
              "      <th>quality</th>\n",
              "    </tr>\n",
              "  </thead>\n",
              "  <tbody>\n",
              "    <tr>\n",
              "      <th>0</th>\n",
              "      <td>0</td>\n",
              "    </tr>\n",
              "    <tr>\n",
              "      <th>1</th>\n",
              "      <td>0</td>\n",
              "    </tr>\n",
              "    <tr>\n",
              "      <th>2</th>\n",
              "      <td>0</td>\n",
              "    </tr>\n",
              "    <tr>\n",
              "      <th>3</th>\n",
              "      <td>0</td>\n",
              "    </tr>\n",
              "  </tbody>\n",
              "</table>\n",
              "</div>\n",
              "      <button class=\"colab-df-convert\" onclick=\"convertToInteractive('df-6b0682cb-cf07-4b84-b602-6ede1721cc2c')\"\n",
              "              title=\"Convert this dataframe to an interactive table.\"\n",
              "              style=\"display:none;\">\n",
              "        \n",
              "  <svg xmlns=\"http://www.w3.org/2000/svg\" height=\"24px\"viewBox=\"0 0 24 24\"\n",
              "       width=\"24px\">\n",
              "    <path d=\"M0 0h24v24H0V0z\" fill=\"none\"/>\n",
              "    <path d=\"M18.56 5.44l.94 2.06.94-2.06 2.06-.94-2.06-.94-.94-2.06-.94 2.06-2.06.94zm-11 1L8.5 8.5l.94-2.06 2.06-.94-2.06-.94L8.5 2.5l-.94 2.06-2.06.94zm10 10l.94 2.06.94-2.06 2.06-.94-2.06-.94-.94-2.06-.94 2.06-2.06.94z\"/><path d=\"M17.41 7.96l-1.37-1.37c-.4-.4-.92-.59-1.43-.59-.52 0-1.04.2-1.43.59L10.3 9.45l-7.72 7.72c-.78.78-.78 2.05 0 2.83L4 21.41c.39.39.9.59 1.41.59.51 0 1.02-.2 1.41-.59l7.78-7.78 2.81-2.81c.8-.78.8-2.07 0-2.86zM5.41 20L4 18.59l7.72-7.72 1.47 1.35L5.41 20z\"/>\n",
              "  </svg>\n",
              "      </button>\n",
              "      \n",
              "  <style>\n",
              "    .colab-df-container {\n",
              "      display:flex;\n",
              "      flex-wrap:wrap;\n",
              "      gap: 12px;\n",
              "    }\n",
              "\n",
              "    .colab-df-convert {\n",
              "      background-color: #E8F0FE;\n",
              "      border: none;\n",
              "      border-radius: 50%;\n",
              "      cursor: pointer;\n",
              "      display: none;\n",
              "      fill: #1967D2;\n",
              "      height: 32px;\n",
              "      padding: 0 0 0 0;\n",
              "      width: 32px;\n",
              "    }\n",
              "\n",
              "    .colab-df-convert:hover {\n",
              "      background-color: #E2EBFA;\n",
              "      box-shadow: 0px 1px 2px rgba(60, 64, 67, 0.3), 0px 1px 3px 1px rgba(60, 64, 67, 0.15);\n",
              "      fill: #174EA6;\n",
              "    }\n",
              "\n",
              "    [theme=dark] .colab-df-convert {\n",
              "      background-color: #3B4455;\n",
              "      fill: #D2E3FC;\n",
              "    }\n",
              "\n",
              "    [theme=dark] .colab-df-convert:hover {\n",
              "      background-color: #434B5C;\n",
              "      box-shadow: 0px 1px 3px 1px rgba(0, 0, 0, 0.15);\n",
              "      filter: drop-shadow(0px 1px 2px rgba(0, 0, 0, 0.3));\n",
              "      fill: #FFFFFF;\n",
              "    }\n",
              "  </style>\n",
              "\n",
              "      <script>\n",
              "        const buttonEl =\n",
              "          document.querySelector('#df-6b0682cb-cf07-4b84-b602-6ede1721cc2c button.colab-df-convert');\n",
              "        buttonEl.style.display =\n",
              "          google.colab.kernel.accessAllowed ? 'block' : 'none';\n",
              "\n",
              "        async function convertToInteractive(key) {\n",
              "          const element = document.querySelector('#df-6b0682cb-cf07-4b84-b602-6ede1721cc2c');\n",
              "          const dataTable =\n",
              "            await google.colab.kernel.invokeFunction('convertToInteractive',\n",
              "                                                     [key], {});\n",
              "          if (!dataTable) return;\n",
              "\n",
              "          const docLinkHtml = 'Like what you see? Visit the ' +\n",
              "            '<a target=\"_blank\" href=https://colab.research.google.com/notebooks/data_table.ipynb>data table notebook</a>'\n",
              "            + ' to learn more about interactive tables.';\n",
              "          element.innerHTML = '';\n",
              "          dataTable['output_type'] = 'display_data';\n",
              "          await google.colab.output.renderOutput(dataTable, element);\n",
              "          const docLink = document.createElement('div');\n",
              "          docLink.innerHTML = docLinkHtml;\n",
              "          element.appendChild(docLink);\n",
              "        }\n",
              "      </script>\n",
              "    </div>\n",
              "  </div>\n",
              "  "
            ],
            "text/plain": [
              "   quality\n",
              "0        0\n",
              "1        0\n",
              "2        0\n",
              "3        0"
            ]
          },
          "metadata": {},
          "execution_count": 360
        }
      ],
      "source": [
        "y = df2[['quality']]\n",
        "y.head(4)"
      ]
    },
    {
      "cell_type": "code",
      "execution_count": null,
      "metadata": {
        "id": "vQYUoS0v_vrJ",
        "colab": {
          "base_uri": "https://localhost:8080/",
          "height": 268
        },
        "outputId": "e2070155-fd29-40c4-be4f-59217fc881f1"
      },
      "outputs": [
        {
          "output_type": "execute_result",
          "data": {
            "text/html": [
              "\n",
              "  <div id=\"df-9be5e6a8-1f76-4d44-8011-6d9b1d0a3d0d\">\n",
              "    <div class=\"colab-df-container\">\n",
              "      <div>\n",
              "<style scoped>\n",
              "    .dataframe tbody tr th:only-of-type {\n",
              "        vertical-align: middle;\n",
              "    }\n",
              "\n",
              "    .dataframe tbody tr th {\n",
              "        vertical-align: top;\n",
              "    }\n",
              "\n",
              "    .dataframe thead th {\n",
              "        text-align: right;\n",
              "    }\n",
              "</style>\n",
              "<table border=\"1\" class=\"dataframe\">\n",
              "  <thead>\n",
              "    <tr style=\"text-align: right;\">\n",
              "      <th></th>\n",
              "      <th>fixed acidity</th>\n",
              "      <th>volatile acidity</th>\n",
              "      <th>citric acid</th>\n",
              "      <th>total sulfur dioxide</th>\n",
              "      <th>density</th>\n",
              "      <th>sulphates</th>\n",
              "      <th>alcohol</th>\n",
              "    </tr>\n",
              "  </thead>\n",
              "  <tbody>\n",
              "    <tr>\n",
              "      <th>fixed acidity</th>\n",
              "      <td>1.000000</td>\n",
              "      <td>-0.255124</td>\n",
              "      <td>0.667437</td>\n",
              "      <td>-0.103777</td>\n",
              "      <td>0.670195</td>\n",
              "      <td>0.190269</td>\n",
              "      <td>-0.061596</td>\n",
              "    </tr>\n",
              "    <tr>\n",
              "      <th>volatile acidity</th>\n",
              "      <td>-0.255124</td>\n",
              "      <td>1.000000</td>\n",
              "      <td>-0.551248</td>\n",
              "      <td>0.071701</td>\n",
              "      <td>0.023943</td>\n",
              "      <td>-0.256948</td>\n",
              "      <td>-0.197812</td>\n",
              "    </tr>\n",
              "    <tr>\n",
              "      <th>citric acid</th>\n",
              "      <td>0.667437</td>\n",
              "      <td>-0.551248</td>\n",
              "      <td>1.000000</td>\n",
              "      <td>0.047358</td>\n",
              "      <td>0.357962</td>\n",
              "      <td>0.326062</td>\n",
              "      <td>0.105108</td>\n",
              "    </tr>\n",
              "    <tr>\n",
              "      <th>total sulfur dioxide</th>\n",
              "      <td>-0.103777</td>\n",
              "      <td>0.071701</td>\n",
              "      <td>0.047358</td>\n",
              "      <td>1.000000</td>\n",
              "      <td>0.078141</td>\n",
              "      <td>0.035291</td>\n",
              "      <td>-0.217829</td>\n",
              "    </tr>\n",
              "    <tr>\n",
              "      <th>density</th>\n",
              "      <td>0.670195</td>\n",
              "      <td>0.023943</td>\n",
              "      <td>0.357962</td>\n",
              "      <td>0.078141</td>\n",
              "      <td>1.000000</td>\n",
              "      <td>0.146036</td>\n",
              "      <td>-0.504995</td>\n",
              "    </tr>\n",
              "    <tr>\n",
              "      <th>sulphates</th>\n",
              "      <td>0.190269</td>\n",
              "      <td>-0.256948</td>\n",
              "      <td>0.326062</td>\n",
              "      <td>0.035291</td>\n",
              "      <td>0.146036</td>\n",
              "      <td>1.000000</td>\n",
              "      <td>0.091621</td>\n",
              "    </tr>\n",
              "    <tr>\n",
              "      <th>alcohol</th>\n",
              "      <td>-0.061596</td>\n",
              "      <td>-0.197812</td>\n",
              "      <td>0.105108</td>\n",
              "      <td>-0.217829</td>\n",
              "      <td>-0.504995</td>\n",
              "      <td>0.091621</td>\n",
              "      <td>1.000000</td>\n",
              "    </tr>\n",
              "  </tbody>\n",
              "</table>\n",
              "</div>\n",
              "      <button class=\"colab-df-convert\" onclick=\"convertToInteractive('df-9be5e6a8-1f76-4d44-8011-6d9b1d0a3d0d')\"\n",
              "              title=\"Convert this dataframe to an interactive table.\"\n",
              "              style=\"display:none;\">\n",
              "        \n",
              "  <svg xmlns=\"http://www.w3.org/2000/svg\" height=\"24px\"viewBox=\"0 0 24 24\"\n",
              "       width=\"24px\">\n",
              "    <path d=\"M0 0h24v24H0V0z\" fill=\"none\"/>\n",
              "    <path d=\"M18.56 5.44l.94 2.06.94-2.06 2.06-.94-2.06-.94-.94-2.06-.94 2.06-2.06.94zm-11 1L8.5 8.5l.94-2.06 2.06-.94-2.06-.94L8.5 2.5l-.94 2.06-2.06.94zm10 10l.94 2.06.94-2.06 2.06-.94-2.06-.94-.94-2.06-.94 2.06-2.06.94z\"/><path d=\"M17.41 7.96l-1.37-1.37c-.4-.4-.92-.59-1.43-.59-.52 0-1.04.2-1.43.59L10.3 9.45l-7.72 7.72c-.78.78-.78 2.05 0 2.83L4 21.41c.39.39.9.59 1.41.59.51 0 1.02-.2 1.41-.59l7.78-7.78 2.81-2.81c.8-.78.8-2.07 0-2.86zM5.41 20L4 18.59l7.72-7.72 1.47 1.35L5.41 20z\"/>\n",
              "  </svg>\n",
              "      </button>\n",
              "      \n",
              "  <style>\n",
              "    .colab-df-container {\n",
              "      display:flex;\n",
              "      flex-wrap:wrap;\n",
              "      gap: 12px;\n",
              "    }\n",
              "\n",
              "    .colab-df-convert {\n",
              "      background-color: #E8F0FE;\n",
              "      border: none;\n",
              "      border-radius: 50%;\n",
              "      cursor: pointer;\n",
              "      display: none;\n",
              "      fill: #1967D2;\n",
              "      height: 32px;\n",
              "      padding: 0 0 0 0;\n",
              "      width: 32px;\n",
              "    }\n",
              "\n",
              "    .colab-df-convert:hover {\n",
              "      background-color: #E2EBFA;\n",
              "      box-shadow: 0px 1px 2px rgba(60, 64, 67, 0.3), 0px 1px 3px 1px rgba(60, 64, 67, 0.15);\n",
              "      fill: #174EA6;\n",
              "    }\n",
              "\n",
              "    [theme=dark] .colab-df-convert {\n",
              "      background-color: #3B4455;\n",
              "      fill: #D2E3FC;\n",
              "    }\n",
              "\n",
              "    [theme=dark] .colab-df-convert:hover {\n",
              "      background-color: #434B5C;\n",
              "      box-shadow: 0px 1px 3px 1px rgba(0, 0, 0, 0.15);\n",
              "      filter: drop-shadow(0px 1px 2px rgba(0, 0, 0, 0.3));\n",
              "      fill: #FFFFFF;\n",
              "    }\n",
              "  </style>\n",
              "\n",
              "      <script>\n",
              "        const buttonEl =\n",
              "          document.querySelector('#df-9be5e6a8-1f76-4d44-8011-6d9b1d0a3d0d button.colab-df-convert');\n",
              "        buttonEl.style.display =\n",
              "          google.colab.kernel.accessAllowed ? 'block' : 'none';\n",
              "\n",
              "        async function convertToInteractive(key) {\n",
              "          const element = document.querySelector('#df-9be5e6a8-1f76-4d44-8011-6d9b1d0a3d0d');\n",
              "          const dataTable =\n",
              "            await google.colab.kernel.invokeFunction('convertToInteractive',\n",
              "                                                     [key], {});\n",
              "          if (!dataTable) return;\n",
              "\n",
              "          const docLinkHtml = 'Like what you see? Visit the ' +\n",
              "            '<a target=\"_blank\" href=https://colab.research.google.com/notebooks/data_table.ipynb>data table notebook</a>'\n",
              "            + ' to learn more about interactive tables.';\n",
              "          element.innerHTML = '';\n",
              "          dataTable['output_type'] = 'display_data';\n",
              "          await google.colab.output.renderOutput(dataTable, element);\n",
              "          const docLink = document.createElement('div');\n",
              "          docLink.innerHTML = docLinkHtml;\n",
              "          element.appendChild(docLink);\n",
              "        }\n",
              "      </script>\n",
              "    </div>\n",
              "  </div>\n",
              "  "
            ],
            "text/plain": [
              "                      fixed acidity  volatile acidity  ...  sulphates   alcohol\n",
              "fixed acidity              1.000000         -0.255124  ...   0.190269 -0.061596\n",
              "volatile acidity          -0.255124          1.000000  ...  -0.256948 -0.197812\n",
              "citric acid                0.667437         -0.551248  ...   0.326062  0.105108\n",
              "total sulfur dioxide      -0.103777          0.071701  ...   0.035291 -0.217829\n",
              "density                    0.670195          0.023943  ...   0.146036 -0.504995\n",
              "sulphates                  0.190269         -0.256948  ...   1.000000  0.091621\n",
              "alcohol                   -0.061596         -0.197812  ...   0.091621  1.000000\n",
              "\n",
              "[7 rows x 7 columns]"
            ]
          },
          "metadata": {},
          "execution_count": 361
        }
      ],
      "source": [
        "x.corr()"
      ]
    },
    {
      "cell_type": "code",
      "execution_count": null,
      "metadata": {
        "id": "hDW3FD4P04_y"
      },
      "outputs": [],
      "source": [
        "x_train, x_test, y_train, y_test = train_test_split(x, y, test_size=0.2, random_state=32)"
      ]
    },
    {
      "cell_type": "code",
      "execution_count": null,
      "metadata": {
        "id": "iKpSY4un09L4",
        "colab": {
          "base_uri": "https://localhost:8080/"
        },
        "outputId": "5e3a06c0-610b-4d11-a176-bc4e3054326c"
      },
      "outputs": [
        {
          "output_type": "stream",
          "name": "stdout",
          "text": [
            "(1359, 12)\n",
            "(1359, 8)\n",
            "(1087, 7) (1087, 1)\n",
            "(272, 7) (272, 1)\n"
          ]
        }
      ],
      "source": [
        "print(df.shape)\n",
        "print(df2.shape)\n",
        "print(x_train.shape, y_train.shape)\n",
        "print(x_test.shape, y_test.shape)"
      ]
    },
    {
      "cell_type": "markdown",
      "metadata": {
        "id": "2M1aLg-OpHia"
      },
      "source": [
        "###Decision Tree\n",
        "\n"
      ]
    },
    {
      "cell_type": "code",
      "execution_count": null,
      "metadata": {
        "id": "3Q2TINlbnqN0",
        "colab": {
          "base_uri": "https://localhost:8080/"
        },
        "outputId": "f917651f-9cdd-4581-df44-8685dbbe4c94"
      },
      "outputs": [
        {
          "output_type": "execute_result",
          "data": {
            "text/plain": [
              "DecisionTreeClassifier(max_depth=4, random_state=10)"
            ]
          },
          "metadata": {},
          "execution_count": 364
        }
      ],
      "source": [
        "from sklearn.tree import DecisionTreeClassifier\n",
        "\n",
        "dt = DecisionTreeClassifier(max_depth=4, random_state=10)\n",
        "\n",
        "dt.fit(x_train, y_train)"
      ]
    },
    {
      "cell_type": "code",
      "execution_count": null,
      "metadata": {
        "id": "qs__lTY1pLbB",
        "colab": {
          "base_uri": "https://localhost:8080/",
          "height": 813
        },
        "outputId": "13cda835-23a6-4c2c-a084-1a39e44653ad"
      },
      "outputs": [
        {
          "output_type": "execute_result",
          "data": {
            "text/plain": [
              "[Text(0.5, 0.9, 'X[6] <= 11.55\\ngini = 0.237\\nsamples = 1087\\nvalue = [938, 149]'),\n",
              " Text(0.25, 0.7, 'X[1] <= 0.335\\ngini = 0.14\\nsamples = 913\\nvalue = [844, 69]'),\n",
              " Text(0.125, 0.5, 'X[6] <= 10.45\\ngini = 0.422\\nsamples = 109\\nvalue = [76, 33]'),\n",
              " Text(0.0625, 0.3, 'X[0] <= 14.65\\ngini = 0.212\\nsamples = 58\\nvalue = [51, 7]'),\n",
              " Text(0.03125, 0.1, 'gini = 0.188\\nsamples = 57\\nvalue = [51, 6]'),\n",
              " Text(0.09375, 0.1, 'gini = 0.0\\nsamples = 1\\nvalue = [0, 1]'),\n",
              " Text(0.1875, 0.3, 'X[0] <= 8.35\\ngini = 0.5\\nsamples = 51\\nvalue = [25, 26]'),\n",
              " Text(0.15625, 0.1, 'gini = 0.375\\nsamples = 20\\nvalue = [15, 5]'),\n",
              " Text(0.21875, 0.1, 'gini = 0.437\\nsamples = 31\\nvalue = [10, 21]'),\n",
              " Text(0.375, 0.5, 'X[6] <= 10.45\\ngini = 0.086\\nsamples = 804\\nvalue = [768, 36]'),\n",
              " Text(0.3125, 0.3, 'X[4] <= 1.002\\ngini = 0.038\\nsamples = 570\\nvalue = [559, 11]'),\n",
              " Text(0.28125, 0.1, 'gini = 0.035\\nsamples = 566\\nvalue = [556, 10]'),\n",
              " Text(0.34375, 0.1, 'gini = 0.375\\nsamples = 4\\nvalue = [3, 1]'),\n",
              " Text(0.4375, 0.3, 'X[1] <= 0.405\\ngini = 0.191\\nsamples = 234\\nvalue = [209, 25]'),\n",
              " Text(0.40625, 0.1, 'gini = 0.39\\nsamples = 49\\nvalue = [36, 13]'),\n",
              " Text(0.46875, 0.1, 'gini = 0.121\\nsamples = 185\\nvalue = [173, 12]'),\n",
              " Text(0.75, 0.7, 'X[5] <= 0.685\\ngini = 0.497\\nsamples = 174\\nvalue = [94, 80]'),\n",
              " Text(0.625, 0.5, 'X[2] <= 0.445\\ngini = 0.378\\nsamples = 87\\nvalue = [65, 22]'),\n",
              " Text(0.5625, 0.3, 'X[5] <= 0.415\\ngini = 0.231\\nsamples = 60\\nvalue = [52, 8]'),\n",
              " Text(0.53125, 0.1, 'gini = 0.0\\nsamples = 1\\nvalue = [0, 1]'),\n",
              " Text(0.59375, 0.1, 'gini = 0.209\\nsamples = 59\\nvalue = [52, 7]'),\n",
              " Text(0.6875, 0.3, 'X[0] <= 10.1\\ngini = 0.499\\nsamples = 27\\nvalue = [13, 14]'),\n",
              " Text(0.65625, 0.1, 'gini = 0.408\\nsamples = 14\\nvalue = [4, 10]'),\n",
              " Text(0.71875, 0.1, 'gini = 0.426\\nsamples = 13\\nvalue = [9, 4]'),\n",
              " Text(0.875, 0.5, 'X[3] <= 56.5\\ngini = 0.444\\nsamples = 87\\nvalue = [29, 58]'),\n",
              " Text(0.8125, 0.3, 'X[5] <= 0.925\\ngini = 0.379\\nsamples = 63\\nvalue = [16, 47]'),\n",
              " Text(0.78125, 0.1, 'gini = 0.332\\nsamples = 57\\nvalue = [12, 45]'),\n",
              " Text(0.84375, 0.1, 'gini = 0.444\\nsamples = 6\\nvalue = [4, 2]'),\n",
              " Text(0.9375, 0.3, 'X[3] <= 83.5\\ngini = 0.497\\nsamples = 24\\nvalue = [13, 11]'),\n",
              " Text(0.90625, 0.1, 'gini = 0.245\\nsamples = 14\\nvalue = [12, 2]'),\n",
              " Text(0.96875, 0.1, 'gini = 0.18\\nsamples = 10\\nvalue = [1, 9]')]"
            ]
          },
          "metadata": {},
          "execution_count": 365
        },
        {
          "output_type": "display_data",
          "data": {
            "image/png": "[encoded data removed]",
            "text/plain": [
              "<Figure size 432x288 with 1 Axes>"
            ]
          },
          "metadata": {
            "needs_background": "light"
          }
        }
      ],
      "source": [
        "from sklearn import tree\n",
        "\n",
        "tree.plot_tree(dt)"
      ]
    },
    {
      "cell_type": "code",
      "execution_count": null,
      "metadata": {
        "id": "JkDAnMeSr3bT"
      },
      "outputs": [],
      "source": [
        "y_pred_dt = dt.predict(x_test)"
      ]
    },
    {
      "cell_type": "code",
      "execution_count": null,
      "metadata": {
        "id": "-xEpY31jsBx2",
        "colab": {
          "base_uri": "https://localhost:8080/"
        },
        "outputId": "3e404133-08fa-4374-adcc-88e915a1ea36"
      },
      "outputs": [
        {
          "output_type": "execute_result",
          "data": {
            "text/plain": [
              "0.8639705882352942"
            ]
          },
          "metadata": {},
          "execution_count": 367
        }
      ],
      "source": [
        "from sklearn.metrics import accuracy_score\n",
        "\n",
        "decision_tree_acc = accuracy_score(y_test,y_pred_dt)\n",
        "decision_tree_acc"
      ]
    },
    {
      "cell_type": "code",
      "source": [
        "print(classification_report(y_test, y_pred_dt))"
      ],
      "metadata": {
        "id": "BTALbQ3O6P_L",
        "colab": {
          "base_uri": "https://localhost:8080/"
        },
        "outputId": "6b783953-e20c-4097-d8ee-316823f1928c"
      },
      "execution_count": null,
      "outputs": [
        {
          "output_type": "stream",
          "name": "stdout",
          "text": [
            "              precision    recall  f1-score   support\n",
            "\n",
            "           0       0.90      0.95      0.92       237\n",
            "           1       0.46      0.31      0.37        35\n",
            "\n",
            "    accuracy                           0.86       272\n",
            "   macro avg       0.68      0.63      0.65       272\n",
            "weighted avg       0.85      0.86      0.85       272\n",
            "\n"
          ]
        }
      ]
    },
    {
      "cell_type": "code",
      "source": [
        "cm = confusion_matrix(y_test, y_pred_dt)\n",
        "\n",
        "sns.heatmap(cm,annot=True,cmap='coolwarm',fmt='g')"
      ],
      "metadata": {
        "id": "NP_JKsZ86W9s",
        "colab": {
          "base_uri": "https://localhost:8080/",
          "height": 284
        },
        "outputId": "eed4ba90-3b1a-4128-cff1-b30c44422edd"
      },
      "execution_count": null,
      "outputs": [
        {
          "output_type": "execute_result",
          "data": {
            "text/plain": [
              "<matplotlib.axes._subplots.AxesSubplot at 0x7f7b8200bc90>"
            ]
          },
          "metadata": {},
          "execution_count": 369
        },
        {
          "output_type": "display_data",
          "data": {
            "image/png": "[encoded data removed]",
            "text/plain": [
              "<Figure size 432x288 with 2 Axes>"
            ]
          },
          "metadata": {
            "needs_background": "light"
          }
        }
      ]
    },
    {
      "cell_type": "code",
      "source": [
        "hasil_Prediksi = pd.DataFrame()\n",
        "\n",
        "hasil_Prediksi['Quality aktual'] = y_test\n",
        "hasil_Prediksi['Prediksi Decision Tree'] = y_pred_dt\n",
        "\n",
        "hasil_Prediksi.head(10)"
      ],
      "metadata": {
        "id": "8oiCX4fE4d1i",
        "colab": {
          "base_uri": "https://localhost:8080/",
          "height": 363
        },
        "outputId": "1e74291e-5b79-489e-847b-4e692cb1b010"
      },
      "execution_count": null,
      "outputs": [
        {
          "output_type": "execute_result",
          "data": {
            "text/html": [
              "\n",
              "  <div id=\"df-c56f59a5-1c2e-4b60-9f86-b6350beaedd7\">\n",
              "    <div class=\"colab-df-container\">\n",
              "      <div>\n",
              "<style scoped>\n",
              "    .dataframe tbody tr th:only-of-type {\n",
              "        vertical-align: middle;\n",
              "    }\n",
              "\n",
              "    .dataframe tbody tr th {\n",
              "        vertical-align: top;\n",
              "    }\n",
              "\n",
              "    .dataframe thead th {\n",
              "        text-align: right;\n",
              "    }\n",
              "</style>\n",
              "<table border=\"1\" class=\"dataframe\">\n",
              "  <thead>\n",
              "    <tr style=\"text-align: right;\">\n",
              "      <th></th>\n",
              "      <th>Quality aktual</th>\n",
              "      <th>Prediksi Decision Tree</th>\n",
              "    </tr>\n",
              "  </thead>\n",
              "  <tbody>\n",
              "    <tr>\n",
              "      <th>880</th>\n",
              "      <td>0</td>\n",
              "      <td>0</td>\n",
              "    </tr>\n",
              "    <tr>\n",
              "      <th>1335</th>\n",
              "      <td>0</td>\n",
              "      <td>0</td>\n",
              "    </tr>\n",
              "    <tr>\n",
              "      <th>1370</th>\n",
              "      <td>0</td>\n",
              "      <td>0</td>\n",
              "    </tr>\n",
              "    <tr>\n",
              "      <th>1430</th>\n",
              "      <td>0</td>\n",
              "      <td>0</td>\n",
              "    </tr>\n",
              "    <tr>\n",
              "      <th>444</th>\n",
              "      <td>1</td>\n",
              "      <td>1</td>\n",
              "    </tr>\n",
              "    <tr>\n",
              "      <th>876</th>\n",
              "      <td>0</td>\n",
              "      <td>0</td>\n",
              "    </tr>\n",
              "    <tr>\n",
              "      <th>441</th>\n",
              "      <td>0</td>\n",
              "      <td>0</td>\n",
              "    </tr>\n",
              "    <tr>\n",
              "      <th>1419</th>\n",
              "      <td>0</td>\n",
              "      <td>0</td>\n",
              "    </tr>\n",
              "    <tr>\n",
              "      <th>773</th>\n",
              "      <td>0</td>\n",
              "      <td>0</td>\n",
              "    </tr>\n",
              "    <tr>\n",
              "      <th>418</th>\n",
              "      <td>0</td>\n",
              "      <td>0</td>\n",
              "    </tr>\n",
              "  </tbody>\n",
              "</table>\n",
              "</div>\n",
              "      <button class=\"colab-df-convert\" onclick=\"convertToInteractive('df-c56f59a5-1c2e-4b60-9f86-b6350beaedd7')\"\n",
              "              title=\"Convert this dataframe to an interactive table.\"\n",
              "              style=\"display:none;\">\n",
              "        \n",
              "  <svg xmlns=\"http://www.w3.org/2000/svg\" height=\"24px\"viewBox=\"0 0 24 24\"\n",
              "       width=\"24px\">\n",
              "    <path d=\"M0 0h24v24H0V0z\" fill=\"none\"/>\n",
              "    <path d=\"M18.56 5.44l.94 2.06.94-2.06 2.06-.94-2.06-.94-.94-2.06-.94 2.06-2.06.94zm-11 1L8.5 8.5l.94-2.06 2.06-.94-2.06-.94L8.5 2.5l-.94 2.06-2.06.94zm10 10l.94 2.06.94-2.06 2.06-.94-2.06-.94-.94-2.06-.94 2.06-2.06.94z\"/><path d=\"M17.41 7.96l-1.37-1.37c-.4-.4-.92-.59-1.43-.59-.52 0-1.04.2-1.43.59L10.3 9.45l-7.72 7.72c-.78.78-.78 2.05 0 2.83L4 21.41c.39.39.9.59 1.41.59.51 0 1.02-.2 1.41-.59l7.78-7.78 2.81-2.81c.8-.78.8-2.07 0-2.86zM5.41 20L4 18.59l7.72-7.72 1.47 1.35L5.41 20z\"/>\n",
              "  </svg>\n",
              "      </button>\n",
              "      \n",
              "  <style>\n",
              "    .colab-df-container {\n",
              "      display:flex;\n",
              "      flex-wrap:wrap;\n",
              "      gap: 12px;\n",
              "    }\n",
              "\n",
              "    .colab-df-convert {\n",
              "      background-color: #E8F0FE;\n",
              "      border: none;\n",
              "      border-radius: 50%;\n",
              "      cursor: pointer;\n",
              "      display: none;\n",
              "      fill: #1967D2;\n",
              "      height: 32px;\n",
              "      padding: 0 0 0 0;\n",
              "      width: 32px;\n",
              "    }\n",
              "\n",
              "    .colab-df-convert:hover {\n",
              "      background-color: #E2EBFA;\n",
              "      box-shadow: 0px 1px 2px rgba(60, 64, 67, 0.3), 0px 1px 3px 1px rgba(60, 64, 67, 0.15);\n",
              "      fill: #174EA6;\n",
              "    }\n",
              "\n",
              "    [theme=dark] .colab-df-convert {\n",
              "      background-color: #3B4455;\n",
              "      fill: #D2E3FC;\n",
              "    }\n",
              "\n",
              "    [theme=dark] .colab-df-convert:hover {\n",
              "      background-color: #434B5C;\n",
              "      box-shadow: 0px 1px 3px 1px rgba(0, 0, 0, 0.15);\n",
              "      filter: drop-shadow(0px 1px 2px rgba(0, 0, 0, 0.3));\n",
              "      fill: #FFFFFF;\n",
              "    }\n",
              "  </style>\n",
              "\n",
              "      <script>\n",
              "        const buttonEl =\n",
              "          document.querySelector('#df-c56f59a5-1c2e-4b60-9f86-b6350beaedd7 button.colab-df-convert');\n",
              "        buttonEl.style.display =\n",
              "          google.colab.kernel.accessAllowed ? 'block' : 'none';\n",
              "\n",
              "        async function convertToInteractive(key) {\n",
              "          const element = document.querySelector('#df-c56f59a5-1c2e-4b60-9f86-b6350beaedd7');\n",
              "          const dataTable =\n",
              "            await google.colab.kernel.invokeFunction('convertToInteractive',\n",
              "                                                     [key], {});\n",
              "          if (!dataTable) return;\n",
              "\n",
              "          const docLinkHtml = 'Like what you see? Visit the ' +\n",
              "            '<a target=\"_blank\" href=https://colab.research.google.com/notebooks/data_table.ipynb>data table notebook</a>'\n",
              "            + ' to learn more about interactive tables.';\n",
              "          element.innerHTML = '';\n",
              "          dataTable['output_type'] = 'display_data';\n",
              "          await google.colab.output.renderOutput(dataTable, element);\n",
              "          const docLink = document.createElement('div');\n",
              "          docLink.innerHTML = docLinkHtml;\n",
              "          element.appendChild(docLink);\n",
              "        }\n",
              "      </script>\n",
              "    </div>\n",
              "  </div>\n",
              "  "
            ],
            "text/plain": [
              "      Quality aktual  Prediksi Decision Tree\n",
              "880                0                       0\n",
              "1335               0                       0\n",
              "1370               0                       0\n",
              "1430               0                       0\n",
              "444                1                       1\n",
              "876                0                       0\n",
              "441                0                       0\n",
              "1419               0                       0\n",
              "773                0                       0\n",
              "418                0                       0"
            ]
          },
          "metadata": {},
          "execution_count": 370
        }
      ]
    },
    {
      "cell_type": "markdown",
      "metadata": {
        "id": "vtJf1E0Uscnl"
      },
      "source": [
        "###Random Forest"
      ]
    },
    {
      "cell_type": "code",
      "execution_count": null,
      "metadata": {
        "id": "yodYQm_3sF5L",
        "colab": {
          "base_uri": "https://localhost:8080/"
        },
        "outputId": "6f2fe26c-43c8-41ba-a31e-7c8441ce1403"
      },
      "outputs": [
        {
          "output_type": "execute_result",
          "data": {
            "text/plain": [
              "RandomForestClassifier(max_depth=4, random_state=10)"
            ]
          },
          "metadata": {},
          "execution_count": 371
        }
      ],
      "source": [
        "from sklearn.ensemble import RandomForestClassifier\n",
        "\n",
        "clf = RandomForestClassifier(max_depth=4, random_state=10)\n",
        "\n",
        "clf.fit(x_train, y_train)"
      ]
    },
    {
      "cell_type": "code",
      "execution_count": null,
      "metadata": {
        "id": "y11JSInxslAi",
        "colab": {
          "base_uri": "https://localhost:8080/"
        },
        "outputId": "db9551f6-5193-40b9-9712-aff0d29d2cec"
      },
      "outputs": [
        {
          "output_type": "stream",
          "name": "stdout",
          "text": [
            "(1087, 1)\n",
            "(1087,)\n"
          ]
        }
      ],
      "source": [
        "print(y_train.shape)\n",
        "print(y_train.values[:,0].shape)"
      ]
    },
    {
      "cell_type": "code",
      "execution_count": null,
      "metadata": {
        "id": "NpXibhAVsm8d",
        "colab": {
          "base_uri": "https://localhost:8080/"
        },
        "outputId": "afedf522-de51-4f3b-e787-55ec8304627a"
      },
      "outputs": [
        {
          "output_type": "execute_result",
          "data": {
            "text/plain": [
              "RandomForestClassifier(max_depth=5, random_state=10)"
            ]
          },
          "metadata": {},
          "execution_count": 373
        }
      ],
      "source": [
        "clf = RandomForestClassifier(max_depth=5, random_state=10)\n",
        "\n",
        "clf.fit(x_train, y_train.values[:,0])"
      ]
    },
    {
      "cell_type": "code",
      "execution_count": null,
      "metadata": {
        "id": "UsIxHEhFs2jl"
      },
      "outputs": [],
      "source": [
        "y_pred_clf = clf.predict(x_test)"
      ]
    },
    {
      "cell_type": "code",
      "execution_count": null,
      "metadata": {
        "id": "9zS72QYyso75",
        "colab": {
          "base_uri": "https://localhost:8080/"
        },
        "outputId": "3645d5aa-8c58-4bf9-b381-70d0274ef4e5"
      },
      "outputs": [
        {
          "output_type": "execute_result",
          "data": {
            "text/plain": [
              "0.8786764705882353"
            ]
          },
          "metadata": {},
          "execution_count": 375
        }
      ],
      "source": [
        "randomforest_acc = accuracy_score(y_test,y_pred_clf)\n",
        "randomforest_acc"
      ]
    },
    {
      "cell_type": "code",
      "source": [
        "print(classification_report(y_test, y_pred_clf))"
      ],
      "metadata": {
        "id": "C3hJExYF6sLG",
        "colab": {
          "base_uri": "https://localhost:8080/"
        },
        "outputId": "351888dc-a299-4d33-dbdb-452ecfcfb277"
      },
      "execution_count": null,
      "outputs": [
        {
          "output_type": "stream",
          "name": "stdout",
          "text": [
            "              precision    recall  f1-score   support\n",
            "\n",
            "           0       0.89      0.98      0.93       237\n",
            "           1       0.60      0.17      0.27        35\n",
            "\n",
            "    accuracy                           0.88       272\n",
            "   macro avg       0.74      0.58      0.60       272\n",
            "weighted avg       0.85      0.88      0.85       272\n",
            "\n"
          ]
        }
      ]
    },
    {
      "cell_type": "code",
      "source": [
        "cm = confusion_matrix(y_test, y_pred_clf)\n",
        "\n",
        "sns.heatmap(cm,annot=True,cmap='coolwarm',fmt='g')"
      ],
      "metadata": {
        "id": "-fC0htj16v1y",
        "colab": {
          "base_uri": "https://localhost:8080/",
          "height": 284
        },
        "outputId": "a86337b5-14ba-4cdb-e636-457c0e06bfe5"
      },
      "execution_count": null,
      "outputs": [
        {
          "output_type": "execute_result",
          "data": {
            "text/plain": [
              "<matplotlib.axes._subplots.AxesSubplot at 0x7f7b81f02450>"
            ]
          },
          "metadata": {},
          "execution_count": 377
        },
        {
          "output_type": "display_data",
          "data": {
            "image/png": "[encoded data removed]",
            "text/plain": [
              "<Figure size 432x288 with 2 Axes>"
            ]
          },
          "metadata": {
            "needs_background": "light"
          }
        }
      ]
    },
    {
      "cell_type": "code",
      "source": [
        "#Hasil Prediksi\n",
        "hasil_Prediksi['Prediksi Random Forest'] = y_pred_clf\n",
        "\n",
        "hasil_Prediksi.head(10)"
      ],
      "metadata": {
        "id": "eS-ChuVV6aHz",
        "colab": {
          "base_uri": "https://localhost:8080/",
          "height": 363
        },
        "outputId": "213f0476-9aad-44cc-ff14-8d6369200dec"
      },
      "execution_count": null,
      "outputs": [
        {
          "output_type": "execute_result",
          "data": {
            "text/html": [
              "\n",
              "  <div id=\"df-a8f54df0-f0ff-4f33-9e4b-34161b94a68d\">\n",
              "    <div class=\"colab-df-container\">\n",
              "      <div>\n",
              "<style scoped>\n",
              "    .dataframe tbody tr th:only-of-type {\n",
              "        vertical-align: middle;\n",
              "    }\n",
              "\n",
              "    .dataframe tbody tr th {\n",
              "        vertical-align: top;\n",
              "    }\n",
              "\n",
              "    .dataframe thead th {\n",
              "        text-align: right;\n",
              "    }\n",
              "</style>\n",
              "<table border=\"1\" class=\"dataframe\">\n",
              "  <thead>\n",
              "    <tr style=\"text-align: right;\">\n",
              "      <th></th>\n",
              "      <th>Quality aktual</th>\n",
              "      <th>Prediksi Decision Tree</th>\n",
              "      <th>Prediksi Random Forest</th>\n",
              "    </tr>\n",
              "  </thead>\n",
              "  <tbody>\n",
              "    <tr>\n",
              "      <th>880</th>\n",
              "      <td>0</td>\n",
              "      <td>0</td>\n",
              "      <td>0</td>\n",
              "    </tr>\n",
              "    <tr>\n",
              "      <th>1335</th>\n",
              "      <td>0</td>\n",
              "      <td>0</td>\n",
              "      <td>0</td>\n",
              "    </tr>\n",
              "    <tr>\n",
              "      <th>1370</th>\n",
              "      <td>0</td>\n",
              "      <td>0</td>\n",
              "      <td>0</td>\n",
              "    </tr>\n",
              "    <tr>\n",
              "      <th>1430</th>\n",
              "      <td>0</td>\n",
              "      <td>0</td>\n",
              "      <td>0</td>\n",
              "    </tr>\n",
              "    <tr>\n",
              "      <th>444</th>\n",
              "      <td>1</td>\n",
              "      <td>1</td>\n",
              "      <td>0</td>\n",
              "    </tr>\n",
              "    <tr>\n",
              "      <th>876</th>\n",
              "      <td>0</td>\n",
              "      <td>0</td>\n",
              "      <td>0</td>\n",
              "    </tr>\n",
              "    <tr>\n",
              "      <th>441</th>\n",
              "      <td>0</td>\n",
              "      <td>0</td>\n",
              "      <td>0</td>\n",
              "    </tr>\n",
              "    <tr>\n",
              "      <th>1419</th>\n",
              "      <td>0</td>\n",
              "      <td>0</td>\n",
              "      <td>0</td>\n",
              "    </tr>\n",
              "    <tr>\n",
              "      <th>773</th>\n",
              "      <td>0</td>\n",
              "      <td>0</td>\n",
              "      <td>0</td>\n",
              "    </tr>\n",
              "    <tr>\n",
              "      <th>418</th>\n",
              "      <td>0</td>\n",
              "      <td>0</td>\n",
              "      <td>0</td>\n",
              "    </tr>\n",
              "  </tbody>\n",
              "</table>\n",
              "</div>\n",
              "      <button class=\"colab-df-convert\" onclick=\"convertToInteractive('df-a8f54df0-f0ff-4f33-9e4b-34161b94a68d')\"\n",
              "              title=\"Convert this dataframe to an interactive table.\"\n",
              "              style=\"display:none;\">\n",
              "        \n",
              "  <svg xmlns=\"http://www.w3.org/2000/svg\" height=\"24px\"viewBox=\"0 0 24 24\"\n",
              "       width=\"24px\">\n",
              "    <path d=\"M0 0h24v24H0V0z\" fill=\"none\"/>\n",
              "    <path d=\"M18.56 5.44l.94 2.06.94-2.06 2.06-.94-2.06-.94-.94-2.06-.94 2.06-2.06.94zm-11 1L8.5 8.5l.94-2.06 2.06-.94-2.06-.94L8.5 2.5l-.94 2.06-2.06.94zm10 10l.94 2.06.94-2.06 2.06-.94-2.06-.94-.94-2.06-.94 2.06-2.06.94z\"/><path d=\"M17.41 7.96l-1.37-1.37c-.4-.4-.92-.59-1.43-.59-.52 0-1.04.2-1.43.59L10.3 9.45l-7.72 7.72c-.78.78-.78 2.05 0 2.83L4 21.41c.39.39.9.59 1.41.59.51 0 1.02-.2 1.41-.59l7.78-7.78 2.81-2.81c.8-.78.8-2.07 0-2.86zM5.41 20L4 18.59l7.72-7.72 1.47 1.35L5.41 20z\"/>\n",
              "  </svg>\n",
              "      </button>\n",
              "      \n",
              "  <style>\n",
              "    .colab-df-container {\n",
              "      display:flex;\n",
              "      flex-wrap:wrap;\n",
              "      gap: 12px;\n",
              "    }\n",
              "\n",
              "    .colab-df-convert {\n",
              "      background-color: #E8F0FE;\n",
              "      border: none;\n",
              "      border-radius: 50%;\n",
              "      cursor: pointer;\n",
              "      display: none;\n",
              "      fill: #1967D2;\n",
              "      height: 32px;\n",
              "      padding: 0 0 0 0;\n",
              "      width: 32px;\n",
              "    }\n",
              "\n",
              "    .colab-df-convert:hover {\n",
              "      background-color: #E2EBFA;\n",
              "      box-shadow: 0px 1px 2px rgba(60, 64, 67, 0.3), 0px 1px 3px 1px rgba(60, 64, 67, 0.15);\n",
              "      fill: #174EA6;\n",
              "    }\n",
              "\n",
              "    [theme=dark] .colab-df-convert {\n",
              "      background-color: #3B4455;\n",
              "      fill: #D2E3FC;\n",
              "    }\n",
              "\n",
              "    [theme=dark] .colab-df-convert:hover {\n",
              "      background-color: #434B5C;\n",
              "      box-shadow: 0px 1px 3px 1px rgba(0, 0, 0, 0.15);\n",
              "      filter: drop-shadow(0px 1px 2px rgba(0, 0, 0, 0.3));\n",
              "      fill: #FFFFFF;\n",
              "    }\n",
              "  </style>\n",
              "\n",
              "      <script>\n",
              "        const buttonEl =\n",
              "          document.querySelector('#df-a8f54df0-f0ff-4f33-9e4b-34161b94a68d button.colab-df-convert');\n",
              "        buttonEl.style.display =\n",
              "          google.colab.kernel.accessAllowed ? 'block' : 'none';\n",
              "\n",
              "        async function convertToInteractive(key) {\n",
              "          const element = document.querySelector('#df-a8f54df0-f0ff-4f33-9e4b-34161b94a68d');\n",
              "          const dataTable =\n",
              "            await google.colab.kernel.invokeFunction('convertToInteractive',\n",
              "                                                     [key], {});\n",
              "          if (!dataTable) return;\n",
              "\n",
              "          const docLinkHtml = 'Like what you see? Visit the ' +\n",
              "            '<a target=\"_blank\" href=https://colab.research.google.com/notebooks/data_table.ipynb>data table notebook</a>'\n",
              "            + ' to learn more about interactive tables.';\n",
              "          element.innerHTML = '';\n",
              "          dataTable['output_type'] = 'display_data';\n",
              "          await google.colab.output.renderOutput(dataTable, element);\n",
              "          const docLink = document.createElement('div');\n",
              "          docLink.innerHTML = docLinkHtml;\n",
              "          element.appendChild(docLink);\n",
              "        }\n",
              "      </script>\n",
              "    </div>\n",
              "  </div>\n",
              "  "
            ],
            "text/plain": [
              "      Quality aktual  Prediksi Decision Tree  Prediksi Random Forest\n",
              "880                0                       0                       0\n",
              "1335               0                       0                       0\n",
              "1370               0                       0                       0\n",
              "1430               0                       0                       0\n",
              "444                1                       1                       0\n",
              "876                0                       0                       0\n",
              "441                0                       0                       0\n",
              "1419               0                       0                       0\n",
              "773                0                       0                       0\n",
              "418                0                       0                       0"
            ]
          },
          "metadata": {},
          "execution_count": 378
        }
      ]
    },
    {
      "cell_type": "markdown",
      "metadata": {
        "id": "raQ5Jg0Gs-0n"
      },
      "source": [
        "##K-Nearest Neighbor (KNN)"
      ]
    },
    {
      "cell_type": "code",
      "execution_count": null,
      "metadata": {
        "id": "VHC-iTbSssOA",
        "colab": {
          "base_uri": "https://localhost:8080/"
        },
        "outputId": "9ddd3a68-5c6f-49f7-e503-9dad480bd09d"
      },
      "outputs": [
        {
          "output_type": "execute_result",
          "data": {
            "text/plain": [
              "KNeighborsClassifier(n_neighbors=2)"
            ]
          },
          "metadata": {},
          "execution_count": 379
        }
      ],
      "source": [
        "from sklearn.neighbors import KNeighborsClassifier\n",
        "\n",
        "knn = KNeighborsClassifier(n_neighbors=2)\n",
        "\n",
        "knn.fit(x_train, y_train.values[:,0])"
      ]
    },
    {
      "cell_type": "code",
      "execution_count": null,
      "metadata": {
        "id": "uJOJ--f2tHy6"
      },
      "outputs": [],
      "source": [
        "y_pred_knn = knn.predict(x_test)"
      ]
    },
    {
      "cell_type": "code",
      "execution_count": null,
      "metadata": {
        "id": "CvAKE5pgtJlK",
        "colab": {
          "base_uri": "https://localhost:8080/"
        },
        "outputId": "32c76c62-6c98-4195-f09b-9dc3159c1db1"
      },
      "outputs": [
        {
          "output_type": "execute_result",
          "data": {
            "text/plain": [
              "0.8566176470588235"
            ]
          },
          "metadata": {},
          "execution_count": 381
        }
      ],
      "source": [
        "knn_acc = accuracy_score(y_test,y_pred_knn)\n",
        "knn_acc"
      ]
    },
    {
      "cell_type": "code",
      "source": [
        "print(classification_report(y_test, y_pred_knn))"
      ],
      "metadata": {
        "id": "aLcTtomS65SV",
        "colab": {
          "base_uri": "https://localhost:8080/"
        },
        "outputId": "d3f52a35-3159-48c1-9d2d-e34349e94af8"
      },
      "execution_count": null,
      "outputs": [
        {
          "output_type": "stream",
          "name": "stdout",
          "text": [
            "              precision    recall  f1-score   support\n",
            "\n",
            "           0       0.88      0.96      0.92       237\n",
            "           1       0.36      0.14      0.20        35\n",
            "\n",
            "    accuracy                           0.86       272\n",
            "   macro avg       0.62      0.55      0.56       272\n",
            "weighted avg       0.82      0.86      0.83       272\n",
            "\n"
          ]
        }
      ]
    },
    {
      "cell_type": "code",
      "source": [
        "cm = confusion_matrix(y_test, y_pred_knn)\n",
        "\n",
        "sns.heatmap(cm,annot=True,cmap='coolwarm',fmt='g')"
      ],
      "metadata": {
        "id": "MK8VJfcA7OX0",
        "colab": {
          "base_uri": "https://localhost:8080/",
          "height": 284
        },
        "outputId": "dc6357bf-ee62-42fc-a575-929bfac8df4e"
      },
      "execution_count": null,
      "outputs": [
        {
          "output_type": "execute_result",
          "data": {
            "text/plain": [
              "<matplotlib.axes._subplots.AxesSubplot at 0x7f7b81ef6910>"
            ]
          },
          "metadata": {},
          "execution_count": 383
        },
        {
          "output_type": "display_data",
          "data": {
            "image/png": "[encoded data removed]",
            "text/plain": [
              "<Figure size 432x288 with 2 Axes>"
            ]
          },
          "metadata": {
            "needs_background": "light"
          }
        }
      ]
    },
    {
      "cell_type": "code",
      "source": [
        "#Hasil Prediksi\n",
        "hasil_Prediksi['Prediksi KNN'] = y_pred_knn\n",
        "\n",
        "hasil_Prediksi.head(10)"
      ],
      "metadata": {
        "id": "LmO9qiBV6wHT",
        "colab": {
          "base_uri": "https://localhost:8080/",
          "height": 363
        },
        "outputId": "152b2d1b-5ede-42d9-d2f0-79c286f03c1c"
      },
      "execution_count": null,
      "outputs": [
        {
          "output_type": "execute_result",
          "data": {
            "text/html": [
              "\n",
              "  <div id=\"df-135090d6-692d-492b-b3b1-edfa3085e44a\">\n",
              "    <div class=\"colab-df-container\">\n",
              "      <div>\n",
              "<style scoped>\n",
              "    .dataframe tbody tr th:only-of-type {\n",
              "        vertical-align: middle;\n",
              "    }\n",
              "\n",
              "    .dataframe tbody tr th {\n",
              "        vertical-align: top;\n",
              "    }\n",
              "\n",
              "    .dataframe thead th {\n",
              "        text-align: right;\n",
              "    }\n",
              "</style>\n",
              "<table border=\"1\" class=\"dataframe\">\n",
              "  <thead>\n",
              "    <tr style=\"text-align: right;\">\n",
              "      <th></th>\n",
              "      <th>Quality aktual</th>\n",
              "      <th>Prediksi Decision Tree</th>\n",
              "      <th>Prediksi Random Forest</th>\n",
              "      <th>Prediksi KNN</th>\n",
              "    </tr>\n",
              "  </thead>\n",
              "  <tbody>\n",
              "    <tr>\n",
              "      <th>880</th>\n",
              "      <td>0</td>\n",
              "      <td>0</td>\n",
              "      <td>0</td>\n",
              "      <td>0</td>\n",
              "    </tr>\n",
              "    <tr>\n",
              "      <th>1335</th>\n",
              "      <td>0</td>\n",
              "      <td>0</td>\n",
              "      <td>0</td>\n",
              "      <td>0</td>\n",
              "    </tr>\n",
              "    <tr>\n",
              "      <th>1370</th>\n",
              "      <td>0</td>\n",
              "      <td>0</td>\n",
              "      <td>0</td>\n",
              "      <td>0</td>\n",
              "    </tr>\n",
              "    <tr>\n",
              "      <th>1430</th>\n",
              "      <td>0</td>\n",
              "      <td>0</td>\n",
              "      <td>0</td>\n",
              "      <td>0</td>\n",
              "    </tr>\n",
              "    <tr>\n",
              "      <th>444</th>\n",
              "      <td>1</td>\n",
              "      <td>1</td>\n",
              "      <td>0</td>\n",
              "      <td>0</td>\n",
              "    </tr>\n",
              "    <tr>\n",
              "      <th>876</th>\n",
              "      <td>0</td>\n",
              "      <td>0</td>\n",
              "      <td>0</td>\n",
              "      <td>0</td>\n",
              "    </tr>\n",
              "    <tr>\n",
              "      <th>441</th>\n",
              "      <td>0</td>\n",
              "      <td>0</td>\n",
              "      <td>0</td>\n",
              "      <td>0</td>\n",
              "    </tr>\n",
              "    <tr>\n",
              "      <th>1419</th>\n",
              "      <td>0</td>\n",
              "      <td>0</td>\n",
              "      <td>0</td>\n",
              "      <td>0</td>\n",
              "    </tr>\n",
              "    <tr>\n",
              "      <th>773</th>\n",
              "      <td>0</td>\n",
              "      <td>0</td>\n",
              "      <td>0</td>\n",
              "      <td>0</td>\n",
              "    </tr>\n",
              "    <tr>\n",
              "      <th>418</th>\n",
              "      <td>0</td>\n",
              "      <td>0</td>\n",
              "      <td>0</td>\n",
              "      <td>0</td>\n",
              "    </tr>\n",
              "  </tbody>\n",
              "</table>\n",
              "</div>\n",
              "      <button class=\"colab-df-convert\" onclick=\"convertToInteractive('df-135090d6-692d-492b-b3b1-edfa3085e44a')\"\n",
              "              title=\"Convert this dataframe to an interactive table.\"\n",
              "              style=\"display:none;\">\n",
              "        \n",
              "  <svg xmlns=\"http://www.w3.org/2000/svg\" height=\"24px\"viewBox=\"0 0 24 24\"\n",
              "       width=\"24px\">\n",
              "    <path d=\"M0 0h24v24H0V0z\" fill=\"none\"/>\n",
              "    <path d=\"M18.56 5.44l.94 2.06.94-2.06 2.06-.94-2.06-.94-.94-2.06-.94 2.06-2.06.94zm-11 1L8.5 8.5l.94-2.06 2.06-.94-2.06-.94L8.5 2.5l-.94 2.06-2.06.94zm10 10l.94 2.06.94-2.06 2.06-.94-2.06-.94-.94-2.06-.94 2.06-2.06.94z\"/><path d=\"M17.41 7.96l-1.37-1.37c-.4-.4-.92-.59-1.43-.59-.52 0-1.04.2-1.43.59L10.3 9.45l-7.72 7.72c-.78.78-.78 2.05 0 2.83L4 21.41c.39.39.9.59 1.41.59.51 0 1.02-.2 1.41-.59l7.78-7.78 2.81-2.81c.8-.78.8-2.07 0-2.86zM5.41 20L4 18.59l7.72-7.72 1.47 1.35L5.41 20z\"/>\n",
              "  </svg>\n",
              "      </button>\n",
              "      \n",
              "  <style>\n",
              "    .colab-df-container {\n",
              "      display:flex;\n",
              "      flex-wrap:wrap;\n",
              "      gap: 12px;\n",
              "    }\n",
              "\n",
              "    .colab-df-convert {\n",
              "      background-color: #E8F0FE;\n",
              "      border: none;\n",
              "      border-radius: 50%;\n",
              "      cursor: pointer;\n",
              "      display: none;\n",
              "      fill: #1967D2;\n",
              "      height: 32px;\n",
              "      padding: 0 0 0 0;\n",
              "      width: 32px;\n",
              "    }\n",
              "\n",
              "    .colab-df-convert:hover {\n",
              "      background-color: #E2EBFA;\n",
              "      box-shadow: 0px 1px 2px rgba(60, 64, 67, 0.3), 0px 1px 3px 1px rgba(60, 64, 67, 0.15);\n",
              "      fill: #174EA6;\n",
              "    }\n",
              "\n",
              "    [theme=dark] .colab-df-convert {\n",
              "      background-color: #3B4455;\n",
              "      fill: #D2E3FC;\n",
              "    }\n",
              "\n",
              "    [theme=dark] .colab-df-convert:hover {\n",
              "      background-color: #434B5C;\n",
              "      box-shadow: 0px 1px 3px 1px rgba(0, 0, 0, 0.15);\n",
              "      filter: drop-shadow(0px 1px 2px rgba(0, 0, 0, 0.3));\n",
              "      fill: #FFFFFF;\n",
              "    }\n",
              "  </style>\n",
              "\n",
              "      <script>\n",
              "        const buttonEl =\n",
              "          document.querySelector('#df-135090d6-692d-492b-b3b1-edfa3085e44a button.colab-df-convert');\n",
              "        buttonEl.style.display =\n",
              "          google.colab.kernel.accessAllowed ? 'block' : 'none';\n",
              "\n",
              "        async function convertToInteractive(key) {\n",
              "          const element = document.querySelector('#df-135090d6-692d-492b-b3b1-edfa3085e44a');\n",
              "          const dataTable =\n",
              "            await google.colab.kernel.invokeFunction('convertToInteractive',\n",
              "                                                     [key], {});\n",
              "          if (!dataTable) return;\n",
              "\n",
              "          const docLinkHtml = 'Like what you see? Visit the ' +\n",
              "            '<a target=\"_blank\" href=https://colab.research.google.com/notebooks/data_table.ipynb>data table notebook</a>'\n",
              "            + ' to learn more about interactive tables.';\n",
              "          element.innerHTML = '';\n",
              "          dataTable['output_type'] = 'display_data';\n",
              "          await google.colab.output.renderOutput(dataTable, element);\n",
              "          const docLink = document.createElement('div');\n",
              "          docLink.innerHTML = docLinkHtml;\n",
              "          element.appendChild(docLink);\n",
              "        }\n",
              "      </script>\n",
              "    </div>\n",
              "  </div>\n",
              "  "
            ],
            "text/plain": [
              "      Quality aktual  ...  Prediksi KNN\n",
              "880                0  ...             0\n",
              "1335               0  ...             0\n",
              "1370               0  ...             0\n",
              "1430               0  ...             0\n",
              "444                1  ...             0\n",
              "876                0  ...             0\n",
              "441                0  ...             0\n",
              "1419               0  ...             0\n",
              "773                0  ...             0\n",
              "418                0  ...             0\n",
              "\n",
              "[10 rows x 4 columns]"
            ]
          },
          "metadata": {},
          "execution_count": 384
        }
      ]
    },
    {
      "cell_type": "markdown",
      "metadata": {
        "id": "hTNY-EKGtYcK"
      },
      "source": [
        "##Naive Bayes"
      ]
    },
    {
      "cell_type": "code",
      "execution_count": null,
      "metadata": {
        "id": "Jawi8EO3tLv3",
        "colab": {
          "base_uri": "https://localhost:8080/"
        },
        "outputId": "0edd52b0-d9f8-4a05-8595-a06a88f28479"
      },
      "outputs": [
        {
          "output_type": "execute_result",
          "data": {
            "text/plain": [
              "GaussianNB()"
            ]
          },
          "metadata": {},
          "execution_count": 385
        }
      ],
      "source": [
        "from sklearn.naive_bayes import GaussianNB\n",
        "\n",
        "nb = GaussianNB()\n",
        "\n",
        "nb.fit(x_train, y_train.values[:,0])"
      ]
    },
    {
      "cell_type": "code",
      "execution_count": null,
      "metadata": {
        "id": "3u0ahV_3tbez"
      },
      "outputs": [],
      "source": [
        "y_pred_nb = nb.predict(x_test)"
      ]
    },
    {
      "cell_type": "code",
      "execution_count": null,
      "metadata": {
        "id": "8WFTTWGZtmZ8",
        "colab": {
          "base_uri": "https://localhost:8080/"
        },
        "outputId": "be746d31-f4f5-4a18-89f9-44a094fbf001"
      },
      "outputs": [
        {
          "output_type": "execute_result",
          "data": {
            "text/plain": [
              "0.8676470588235294"
            ]
          },
          "metadata": {},
          "execution_count": 387
        }
      ],
      "source": [
        "nb_acc = accuracy_score(y_test,y_pred_nb)\n",
        "nb_acc"
      ]
    },
    {
      "cell_type": "code",
      "source": [
        "print(classification_report(y_test, y_pred_nb))"
      ],
      "metadata": {
        "id": "a5GaKl_C7a0w",
        "colab": {
          "base_uri": "https://localhost:8080/"
        },
        "outputId": "7d494d1f-8784-49cc-8586-a6fb54df2428"
      },
      "execution_count": null,
      "outputs": [
        {
          "output_type": "stream",
          "name": "stdout",
          "text": [
            "              precision    recall  f1-score   support\n",
            "\n",
            "           0       0.93      0.92      0.92       237\n",
            "           1       0.49      0.54      0.51        35\n",
            "\n",
            "    accuracy                           0.87       272\n",
            "   macro avg       0.71      0.73      0.72       272\n",
            "weighted avg       0.87      0.87      0.87       272\n",
            "\n"
          ]
        }
      ]
    },
    {
      "cell_type": "code",
      "source": [
        "cm = confusion_matrix(y_test, y_pred_nb)\n",
        "\n",
        "sns.heatmap(cm, annot=True, cmap='coolwarm',fmt='g')"
      ],
      "metadata": {
        "id": "XI2Hk3FN7l8S",
        "colab": {
          "base_uri": "https://localhost:8080/",
          "height": 284
        },
        "outputId": "ae719fff-8dec-465d-ceb1-ded58af1344e"
      },
      "execution_count": null,
      "outputs": [
        {
          "output_type": "execute_result",
          "data": {
            "text/plain": [
              "<matplotlib.axes._subplots.AxesSubplot at 0x7f7b81dc12d0>"
            ]
          },
          "metadata": {},
          "execution_count": 389
        },
        {
          "output_type": "display_data",
          "data": {
            "image/png": "[encoded data removed]",
            "text/plain": [
              "<Figure size 432x288 with 2 Axes>"
            ]
          },
          "metadata": {
            "needs_background": "light"
          }
        }
      ]
    },
    {
      "cell_type": "code",
      "source": [
        "#Hasil Prediksi\n",
        "\n",
        "hasil_Prediksi['Prediksi Naive Bayes'] = y_pred_nb\n",
        "\n",
        "hasil_Prediksi.head(10)"
      ],
      "metadata": {
        "id": "XlT1VRF4640c",
        "colab": {
          "base_uri": "https://localhost:8080/",
          "height": 363
        },
        "outputId": "16bc343c-a9fb-4649-9e8b-38d4dd661038"
      },
      "execution_count": null,
      "outputs": [
        {
          "output_type": "execute_result",
          "data": {
            "text/html": [
              "\n",
              "  <div id=\"df-dce742b7-94c6-434b-bbaa-b8ba59388168\">\n",
              "    <div class=\"colab-df-container\">\n",
              "      <div>\n",
              "<style scoped>\n",
              "    .dataframe tbody tr th:only-of-type {\n",
              "        vertical-align: middle;\n",
              "    }\n",
              "\n",
              "    .dataframe tbody tr th {\n",
              "        vertical-align: top;\n",
              "    }\n",
              "\n",
              "    .dataframe thead th {\n",
              "        text-align: right;\n",
              "    }\n",
              "</style>\n",
              "<table border=\"1\" class=\"dataframe\">\n",
              "  <thead>\n",
              "    <tr style=\"text-align: right;\">\n",
              "      <th></th>\n",
              "      <th>Quality aktual</th>\n",
              "      <th>Prediksi Decision Tree</th>\n",
              "      <th>Prediksi Random Forest</th>\n",
              "      <th>Prediksi KNN</th>\n",
              "      <th>Prediksi Naive Bayes</th>\n",
              "    </tr>\n",
              "  </thead>\n",
              "  <tbody>\n",
              "    <tr>\n",
              "      <th>880</th>\n",
              "      <td>0</td>\n",
              "      <td>0</td>\n",
              "      <td>0</td>\n",
              "      <td>0</td>\n",
              "      <td>0</td>\n",
              "    </tr>\n",
              "    <tr>\n",
              "      <th>1335</th>\n",
              "      <td>0</td>\n",
              "      <td>0</td>\n",
              "      <td>0</td>\n",
              "      <td>0</td>\n",
              "      <td>0</td>\n",
              "    </tr>\n",
              "    <tr>\n",
              "      <th>1370</th>\n",
              "      <td>0</td>\n",
              "      <td>0</td>\n",
              "      <td>0</td>\n",
              "      <td>0</td>\n",
              "      <td>0</td>\n",
              "    </tr>\n",
              "    <tr>\n",
              "      <th>1430</th>\n",
              "      <td>0</td>\n",
              "      <td>0</td>\n",
              "      <td>0</td>\n",
              "      <td>0</td>\n",
              "      <td>0</td>\n",
              "    </tr>\n",
              "    <tr>\n",
              "      <th>444</th>\n",
              "      <td>1</td>\n",
              "      <td>1</td>\n",
              "      <td>0</td>\n",
              "      <td>0</td>\n",
              "      <td>1</td>\n",
              "    </tr>\n",
              "    <tr>\n",
              "      <th>876</th>\n",
              "      <td>0</td>\n",
              "      <td>0</td>\n",
              "      <td>0</td>\n",
              "      <td>0</td>\n",
              "      <td>0</td>\n",
              "    </tr>\n",
              "    <tr>\n",
              "      <th>441</th>\n",
              "      <td>0</td>\n",
              "      <td>0</td>\n",
              "      <td>0</td>\n",
              "      <td>0</td>\n",
              "      <td>1</td>\n",
              "    </tr>\n",
              "    <tr>\n",
              "      <th>1419</th>\n",
              "      <td>0</td>\n",
              "      <td>0</td>\n",
              "      <td>0</td>\n",
              "      <td>0</td>\n",
              "      <td>0</td>\n",
              "    </tr>\n",
              "    <tr>\n",
              "      <th>773</th>\n",
              "      <td>0</td>\n",
              "      <td>0</td>\n",
              "      <td>0</td>\n",
              "      <td>0</td>\n",
              "      <td>0</td>\n",
              "    </tr>\n",
              "    <tr>\n",
              "      <th>418</th>\n",
              "      <td>0</td>\n",
              "      <td>0</td>\n",
              "      <td>0</td>\n",
              "      <td>0</td>\n",
              "      <td>0</td>\n",
              "    </tr>\n",
              "  </tbody>\n",
              "</table>\n",
              "</div>\n",
              "      <button class=\"colab-df-convert\" onclick=\"convertToInteractive('df-dce742b7-94c6-434b-bbaa-b8ba59388168')\"\n",
              "              title=\"Convert this dataframe to an interactive table.\"\n",
              "              style=\"display:none;\">\n",
              "        \n",
              "  <svg xmlns=\"http://www.w3.org/2000/svg\" height=\"24px\"viewBox=\"0 0 24 24\"\n",
              "       width=\"24px\">\n",
              "    <path d=\"M0 0h24v24H0V0z\" fill=\"none\"/>\n",
              "    <path d=\"M18.56 5.44l.94 2.06.94-2.06 2.06-.94-2.06-.94-.94-2.06-.94 2.06-2.06.94zm-11 1L8.5 8.5l.94-2.06 2.06-.94-2.06-.94L8.5 2.5l-.94 2.06-2.06.94zm10 10l.94 2.06.94-2.06 2.06-.94-2.06-.94-.94-2.06-.94 2.06-2.06.94z\"/><path d=\"M17.41 7.96l-1.37-1.37c-.4-.4-.92-.59-1.43-.59-.52 0-1.04.2-1.43.59L10.3 9.45l-7.72 7.72c-.78.78-.78 2.05 0 2.83L4 21.41c.39.39.9.59 1.41.59.51 0 1.02-.2 1.41-.59l7.78-7.78 2.81-2.81c.8-.78.8-2.07 0-2.86zM5.41 20L4 18.59l7.72-7.72 1.47 1.35L5.41 20z\"/>\n",
              "  </svg>\n",
              "      </button>\n",
              "      \n",
              "  <style>\n",
              "    .colab-df-container {\n",
              "      display:flex;\n",
              "      flex-wrap:wrap;\n",
              "      gap: 12px;\n",
              "    }\n",
              "\n",
              "    .colab-df-convert {\n",
              "      background-color: #E8F0FE;\n",
              "      border: none;\n",
              "      border-radius: 50%;\n",
              "      cursor: pointer;\n",
              "      display: none;\n",
              "      fill: #1967D2;\n",
              "      height: 32px;\n",
              "      padding: 0 0 0 0;\n",
              "      width: 32px;\n",
              "    }\n",
              "\n",
              "    .colab-df-convert:hover {\n",
              "      background-color: #E2EBFA;\n",
              "      box-shadow: 0px 1px 2px rgba(60, 64, 67, 0.3), 0px 1px 3px 1px rgba(60, 64, 67, 0.15);\n",
              "      fill: #174EA6;\n",
              "    }\n",
              "\n",
              "    [theme=dark] .colab-df-convert {\n",
              "      background-color: #3B4455;\n",
              "      fill: #D2E3FC;\n",
              "    }\n",
              "\n",
              "    [theme=dark] .colab-df-convert:hover {\n",
              "      background-color: #434B5C;\n",
              "      box-shadow: 0px 1px 3px 1px rgba(0, 0, 0, 0.15);\n",
              "      filter: drop-shadow(0px 1px 2px rgba(0, 0, 0, 0.3));\n",
              "      fill: #FFFFFF;\n",
              "    }\n",
              "  </style>\n",
              "\n",
              "      <script>\n",
              "        const buttonEl =\n",
              "          document.querySelector('#df-dce742b7-94c6-434b-bbaa-b8ba59388168 button.colab-df-convert');\n",
              "        buttonEl.style.display =\n",
              "          google.colab.kernel.accessAllowed ? 'block' : 'none';\n",
              "\n",
              "        async function convertToInteractive(key) {\n",
              "          const element = document.querySelector('#df-dce742b7-94c6-434b-bbaa-b8ba59388168');\n",
              "          const dataTable =\n",
              "            await google.colab.kernel.invokeFunction('convertToInteractive',\n",
              "                                                     [key], {});\n",
              "          if (!dataTable) return;\n",
              "\n",
              "          const docLinkHtml = 'Like what you see? Visit the ' +\n",
              "            '<a target=\"_blank\" href=https://colab.research.google.com/notebooks/data_table.ipynb>data table notebook</a>'\n",
              "            + ' to learn more about interactive tables.';\n",
              "          element.innerHTML = '';\n",
              "          dataTable['output_type'] = 'display_data';\n",
              "          await google.colab.output.renderOutput(dataTable, element);\n",
              "          const docLink = document.createElement('div');\n",
              "          docLink.innerHTML = docLinkHtml;\n",
              "          element.appendChild(docLink);\n",
              "        }\n",
              "      </script>\n",
              "    </div>\n",
              "  </div>\n",
              "  "
            ],
            "text/plain": [
              "      Quality aktual  ...  Prediksi Naive Bayes\n",
              "880                0  ...                     0\n",
              "1335               0  ...                     0\n",
              "1370               0  ...                     0\n",
              "1430               0  ...                     0\n",
              "444                1  ...                     1\n",
              "876                0  ...                     0\n",
              "441                0  ...                     1\n",
              "1419               0  ...                     0\n",
              "773                0  ...                     0\n",
              "418                0  ...                     0\n",
              "\n",
              "[10 rows x 5 columns]"
            ]
          },
          "metadata": {},
          "execution_count": 390
        }
      ]
    },
    {
      "cell_type": "markdown",
      "metadata": {
        "id": "HsoEoklttsMY"
      },
      "source": [
        "##SVM"
      ]
    },
    {
      "cell_type": "code",
      "execution_count": null,
      "metadata": {
        "id": "dytP9pmctpCr",
        "colab": {
          "base_uri": "https://localhost:8080/"
        },
        "outputId": "78481944-dcc0-4d04-dd9a-af1eae92618e"
      },
      "outputs": [
        {
          "output_type": "execute_result",
          "data": {
            "text/plain": [
              "SVC()"
            ]
          },
          "metadata": {},
          "execution_count": 391
        }
      ],
      "source": [
        "from sklearn import svm\n",
        "\n",
        "sv = svm.SVC()\n",
        "\n",
        "sv.fit(x_train,y_train.values[:,0])"
      ]
    },
    {
      "cell_type": "code",
      "execution_count": null,
      "metadata": {
        "id": "C3esdZyAtu5o"
      },
      "outputs": [],
      "source": [
        "y_pred_svm = sv.predict(x_test)"
      ]
    },
    {
      "cell_type": "code",
      "execution_count": null,
      "metadata": {
        "id": "bUfdZeZGt1xR",
        "colab": {
          "base_uri": "https://localhost:8080/"
        },
        "outputId": "ce68fec5-e2b7-492f-a4c0-8e7550dba3ab"
      },
      "outputs": [
        {
          "output_type": "execute_result",
          "data": {
            "text/plain": [
              "0.8713235294117647"
            ]
          },
          "metadata": {},
          "execution_count": 393
        }
      ],
      "source": [
        "sv_acc = accuracy_score(y_test,y_pred_svm)\n",
        "sv_acc"
      ]
    },
    {
      "cell_type": "code",
      "source": [
        "print(classification_report(y_test, y_pred_svm))"
      ],
      "metadata": {
        "id": "xxwlAl0R73L_",
        "colab": {
          "base_uri": "https://localhost:8080/"
        },
        "outputId": "68845129-3547-41e9-bd0d-534b3d4fccbd"
      },
      "execution_count": null,
      "outputs": [
        {
          "output_type": "stream",
          "name": "stdout",
          "text": [
            "              precision    recall  f1-score   support\n",
            "\n",
            "           0       0.87      1.00      0.93       237\n",
            "           1       0.00      0.00      0.00        35\n",
            "\n",
            "    accuracy                           0.87       272\n",
            "   macro avg       0.44      0.50      0.47       272\n",
            "weighted avg       0.76      0.87      0.81       272\n",
            "\n"
          ]
        }
      ]
    },
    {
      "cell_type": "code",
      "source": [
        "cm = confusion_matrix(y_test, y_pred_svm)\n",
        "\n",
        "sns.heatmap(cm, annot=True, cmap='coolwarm',fmt='g')"
      ],
      "metadata": {
        "id": "ojkDWs8o8H3X",
        "colab": {
          "base_uri": "https://localhost:8080/",
          "height": 284
        },
        "outputId": "ee195e1b-73c7-4213-af85-e4599933b742"
      },
      "execution_count": null,
      "outputs": [
        {
          "output_type": "execute_result",
          "data": {
            "text/plain": [
              "<matplotlib.axes._subplots.AxesSubplot at 0x7f7b81d6b510>"
            ]
          },
          "metadata": {},
          "execution_count": 395
        },
        {
          "output_type": "display_data",
          "data": {
            "image/png": "[encoded data removed]",
            "text/plain": [
              "<Figure size 432x288 with 2 Axes>"
            ]
          },
          "metadata": {
            "needs_background": "light"
          }
        }
      ]
    },
    {
      "cell_type": "code",
      "source": [
        "#Hasil Prediksi\n",
        "hasil_Prediksi['Prediksi SVM'] = y_pred_svm\n",
        "\n",
        "hasil_Prediksi.head(10)"
      ],
      "metadata": {
        "id": "tJ4C3zgv6_sM",
        "colab": {
          "base_uri": "https://localhost:8080/",
          "height": 363
        },
        "outputId": "3a278380-48b4-464e-d02a-dabdffec0ed1"
      },
      "execution_count": null,
      "outputs": [
        {
          "output_type": "execute_result",
          "data": {
            "text/html": [
              "\n",
              "  <div id=\"df-0e1103ea-372a-46b1-b033-b84bc8f1d949\">\n",
              "    <div class=\"colab-df-container\">\n",
              "      <div>\n",
              "<style scoped>\n",
              "    .dataframe tbody tr th:only-of-type {\n",
              "        vertical-align: middle;\n",
              "    }\n",
              "\n",
              "    .dataframe tbody tr th {\n",
              "        vertical-align: top;\n",
              "    }\n",
              "\n",
              "    .dataframe thead th {\n",
              "        text-align: right;\n",
              "    }\n",
              "</style>\n",
              "<table border=\"1\" class=\"dataframe\">\n",
              "  <thead>\n",
              "    <tr style=\"text-align: right;\">\n",
              "      <th></th>\n",
              "      <th>Quality aktual</th>\n",
              "      <th>Prediksi Decision Tree</th>\n",
              "      <th>Prediksi Random Forest</th>\n",
              "      <th>Prediksi KNN</th>\n",
              "      <th>Prediksi Naive Bayes</th>\n",
              "      <th>Prediksi SVM</th>\n",
              "    </tr>\n",
              "  </thead>\n",
              "  <tbody>\n",
              "    <tr>\n",
              "      <th>880</th>\n",
              "      <td>0</td>\n",
              "      <td>0</td>\n",
              "      <td>0</td>\n",
              "      <td>0</td>\n",
              "      <td>0</td>\n",
              "      <td>0</td>\n",
              "    </tr>\n",
              "    <tr>\n",
              "      <th>1335</th>\n",
              "      <td>0</td>\n",
              "      <td>0</td>\n",
              "      <td>0</td>\n",
              "      <td>0</td>\n",
              "      <td>0</td>\n",
              "      <td>0</td>\n",
              "    </tr>\n",
              "    <tr>\n",
              "      <th>1370</th>\n",
              "      <td>0</td>\n",
              "      <td>0</td>\n",
              "      <td>0</td>\n",
              "      <td>0</td>\n",
              "      <td>0</td>\n",
              "      <td>0</td>\n",
              "    </tr>\n",
              "    <tr>\n",
              "      <th>1430</th>\n",
              "      <td>0</td>\n",
              "      <td>0</td>\n",
              "      <td>0</td>\n",
              "      <td>0</td>\n",
              "      <td>0</td>\n",
              "      <td>0</td>\n",
              "    </tr>\n",
              "    <tr>\n",
              "      <th>444</th>\n",
              "      <td>1</td>\n",
              "      <td>1</td>\n",
              "      <td>0</td>\n",
              "      <td>0</td>\n",
              "      <td>1</td>\n",
              "      <td>0</td>\n",
              "    </tr>\n",
              "    <tr>\n",
              "      <th>876</th>\n",
              "      <td>0</td>\n",
              "      <td>0</td>\n",
              "      <td>0</td>\n",
              "      <td>0</td>\n",
              "      <td>0</td>\n",
              "      <td>0</td>\n",
              "    </tr>\n",
              "    <tr>\n",
              "      <th>441</th>\n",
              "      <td>0</td>\n",
              "      <td>0</td>\n",
              "      <td>0</td>\n",
              "      <td>0</td>\n",
              "      <td>1</td>\n",
              "      <td>0</td>\n",
              "    </tr>\n",
              "    <tr>\n",
              "      <th>1419</th>\n",
              "      <td>0</td>\n",
              "      <td>0</td>\n",
              "      <td>0</td>\n",
              "      <td>0</td>\n",
              "      <td>0</td>\n",
              "      <td>0</td>\n",
              "    </tr>\n",
              "    <tr>\n",
              "      <th>773</th>\n",
              "      <td>0</td>\n",
              "      <td>0</td>\n",
              "      <td>0</td>\n",
              "      <td>0</td>\n",
              "      <td>0</td>\n",
              "      <td>0</td>\n",
              "    </tr>\n",
              "    <tr>\n",
              "      <th>418</th>\n",
              "      <td>0</td>\n",
              "      <td>0</td>\n",
              "      <td>0</td>\n",
              "      <td>0</td>\n",
              "      <td>0</td>\n",
              "      <td>0</td>\n",
              "    </tr>\n",
              "  </tbody>\n",
              "</table>\n",
              "</div>\n",
              "      <button class=\"colab-df-convert\" onclick=\"convertToInteractive('df-0e1103ea-372a-46b1-b033-b84bc8f1d949')\"\n",
              "              title=\"Convert this dataframe to an interactive table.\"\n",
              "              style=\"display:none;\">\n",
              "        \n",
              "  <svg xmlns=\"http://www.w3.org/2000/svg\" height=\"24px\"viewBox=\"0 0 24 24\"\n",
              "       width=\"24px\">\n",
              "    <path d=\"M0 0h24v24H0V0z\" fill=\"none\"/>\n",
              "    <path d=\"M18.56 5.44l.94 2.06.94-2.06 2.06-.94-2.06-.94-.94-2.06-.94 2.06-2.06.94zm-11 1L8.5 8.5l.94-2.06 2.06-.94-2.06-.94L8.5 2.5l-.94 2.06-2.06.94zm10 10l.94 2.06.94-2.06 2.06-.94-2.06-.94-.94-2.06-.94 2.06-2.06.94z\"/><path d=\"M17.41 7.96l-1.37-1.37c-.4-.4-.92-.59-1.43-.59-.52 0-1.04.2-1.43.59L10.3 9.45l-7.72 7.72c-.78.78-.78 2.05 0 2.83L4 21.41c.39.39.9.59 1.41.59.51 0 1.02-.2 1.41-.59l7.78-7.78 2.81-2.81c.8-.78.8-2.07 0-2.86zM5.41 20L4 18.59l7.72-7.72 1.47 1.35L5.41 20z\"/>\n",
              "  </svg>\n",
              "      </button>\n",
              "      \n",
              "  <style>\n",
              "    .colab-df-container {\n",
              "      display:flex;\n",
              "      flex-wrap:wrap;\n",
              "      gap: 12px;\n",
              "    }\n",
              "\n",
              "    .colab-df-convert {\n",
              "      background-color: #E8F0FE;\n",
              "      border: none;\n",
              "      border-radius: 50%;\n",
              "      cursor: pointer;\n",
              "      display: none;\n",
              "      fill: #1967D2;\n",
              "      height: 32px;\n",
              "      padding: 0 0 0 0;\n",
              "      width: 32px;\n",
              "    }\n",
              "\n",
              "    .colab-df-convert:hover {\n",
              "      background-color: #E2EBFA;\n",
              "      box-shadow: 0px 1px 2px rgba(60, 64, 67, 0.3), 0px 1px 3px 1px rgba(60, 64, 67, 0.15);\n",
              "      fill: #174EA6;\n",
              "    }\n",
              "\n",
              "    [theme=dark] .colab-df-convert {\n",
              "      background-color: #3B4455;\n",
              "      fill: #D2E3FC;\n",
              "    }\n",
              "\n",
              "    [theme=dark] .colab-df-convert:hover {\n",
              "      background-color: #434B5C;\n",
              "      box-shadow: 0px 1px 3px 1px rgba(0, 0, 0, 0.15);\n",
              "      filter: drop-shadow(0px 1px 2px rgba(0, 0, 0, 0.3));\n",
              "      fill: #FFFFFF;\n",
              "    }\n",
              "  </style>\n",
              "\n",
              "      <script>\n",
              "        const buttonEl =\n",
              "          document.querySelector('#df-0e1103ea-372a-46b1-b033-b84bc8f1d949 button.colab-df-convert');\n",
              "        buttonEl.style.display =\n",
              "          google.colab.kernel.accessAllowed ? 'block' : 'none';\n",
              "\n",
              "        async function convertToInteractive(key) {\n",
              "          const element = document.querySelector('#df-0e1103ea-372a-46b1-b033-b84bc8f1d949');\n",
              "          const dataTable =\n",
              "            await google.colab.kernel.invokeFunction('convertToInteractive',\n",
              "                                                     [key], {});\n",
              "          if (!dataTable) return;\n",
              "\n",
              "          const docLinkHtml = 'Like what you see? Visit the ' +\n",
              "            '<a target=\"_blank\" href=https://colab.research.google.com/notebooks/data_table.ipynb>data table notebook</a>'\n",
              "            + ' to learn more about interactive tables.';\n",
              "          element.innerHTML = '';\n",
              "          dataTable['output_type'] = 'display_data';\n",
              "          await google.colab.output.renderOutput(dataTable, element);\n",
              "          const docLink = document.createElement('div');\n",
              "          docLink.innerHTML = docLinkHtml;\n",
              "          element.appendChild(docLink);\n",
              "        }\n",
              "      </script>\n",
              "    </div>\n",
              "  </div>\n",
              "  "
            ],
            "text/plain": [
              "      Quality aktual  ...  Prediksi SVM\n",
              "880                0  ...             0\n",
              "1335               0  ...             0\n",
              "1370               0  ...             0\n",
              "1430               0  ...             0\n",
              "444                1  ...             0\n",
              "876                0  ...             0\n",
              "441                0  ...             0\n",
              "1419               0  ...             0\n",
              "773                0  ...             0\n",
              "418                0  ...             0\n",
              "\n",
              "[10 rows x 6 columns]"
            ]
          },
          "metadata": {},
          "execution_count": 396
        }
      ]
    },
    {
      "cell_type": "markdown",
      "metadata": {
        "id": "JaJqgwbVFvb1"
      },
      "source": [
        "##ANN"
      ]
    },
    {
      "cell_type": "code",
      "execution_count": null,
      "metadata": {
        "id": "KqU2rNeVFzia"
      },
      "outputs": [],
      "source": [
        "from tensorflow import keras\n",
        "from tensorflow.keras import layers\n",
        "from tensorflow.keras.models import Sequential\n",
        "from tensorflow.keras.layers import Dense, Dropout, Activation\n",
        "from tensorflow.keras.optimizers import Adam\n",
        "from keras.utils import np_utils "
      ]
    },
    {
      "cell_type": "code",
      "source": [
        "print(\"x_train shape\", x_train.shape)\n",
        "print(\"y_train shape\", y_train.shape)\n",
        "print(\"x_test shape\", x_test.shape)\n",
        "print(\"y_test shape\", y_test.shape)"
      ],
      "metadata": {
        "id": "1NZgXuG5RZ1c",
        "colab": {
          "base_uri": "https://localhost:8080/"
        },
        "outputId": "11a74278-7da7-4cba-84ea-3656582ff058"
      },
      "execution_count": null,
      "outputs": [
        {
          "output_type": "stream",
          "name": "stdout",
          "text": [
            "x_train shape (1087, 7)\n",
            "y_train shape (1087, 1)\n",
            "x_test shape (272, 7)\n",
            "y_test shape (272, 1)\n"
          ]
        }
      ]
    },
    {
      "cell_type": "code",
      "source": [
        "nb_classes = 10 # number of unique digits\n",
        "\n",
        "y_train = np_utils.to_categorical(y_train, nb_classes)\n",
        "y_test = np_utils.to_categorical(y_test, nb_classes) "
      ],
      "metadata": {
        "id": "qiQCsoBiUWUA"
      },
      "execution_count": null,
      "outputs": []
    },
    {
      "cell_type": "code",
      "source": [
        "y_train[:5]"
      ],
      "metadata": {
        "id": "fm2GgRJkUAyQ",
        "colab": {
          "base_uri": "https://localhost:8080/"
        },
        "outputId": "c61a5eb7-6567-433f-c24c-71a8e58bf863"
      },
      "execution_count": null,
      "outputs": [
        {
          "output_type": "execute_result",
          "data": {
            "text/plain": [
              "array([[1., 0., 0., 0., 0., 0., 0., 0., 0., 0.],\n",
              "       [1., 0., 0., 0., 0., 0., 0., 0., 0., 0.],\n",
              "       [1., 0., 0., 0., 0., 0., 0., 0., 0., 0.],\n",
              "       [1., 0., 0., 0., 0., 0., 0., 0., 0., 0.],\n",
              "       [1., 0., 0., 0., 0., 0., 0., 0., 0., 0.]], dtype=float32)"
            ]
          },
          "metadata": {},
          "execution_count": 400
        }
      ]
    },
    {
      "cell_type": "code",
      "source": [
        "y_test[:5]"
      ],
      "metadata": {
        "id": "4ojS3ufdUGXa",
        "colab": {
          "base_uri": "https://localhost:8080/"
        },
        "outputId": "0bc2ea83-bf25-4f3a-fe65-2cde6503521d"
      },
      "execution_count": null,
      "outputs": [
        {
          "output_type": "execute_result",
          "data": {
            "text/plain": [
              "array([[1., 0., 0., 0., 0., 0., 0., 0., 0., 0.],\n",
              "       [1., 0., 0., 0., 0., 0., 0., 0., 0., 0.],\n",
              "       [1., 0., 0., 0., 0., 0., 0., 0., 0., 0.],\n",
              "       [1., 0., 0., 0., 0., 0., 0., 0., 0., 0.],\n",
              "       [0., 1., 0., 0., 0., 0., 0., 0., 0., 0.]], dtype=float32)"
            ]
          },
          "metadata": {},
          "execution_count": 401
        }
      ]
    },
    {
      "cell_type": "code",
      "execution_count": null,
      "metadata": {
        "id": "4IfQhm_bF7wB"
      },
      "outputs": [],
      "source": [
        "model = Sequential()\n",
        "model.add(Dense(512, input_shape=(7,), activation='relu'))\n",
        "model.add(Dropout(0.2))\n",
        "model.add(Dense(512, activation='relu'))\n",
        "model.add(Dropout(0.2))\n",
        "model.add(Dense(10, activation='softmax'))"
      ]
    },
    {
      "cell_type": "code",
      "execution_count": null,
      "metadata": {
        "id": "D_S_GHmhGAGc",
        "colab": {
          "base_uri": "https://localhost:8080/"
        },
        "outputId": "d5fc922b-0113-46fe-a7fc-250df20832be"
      },
      "outputs": [
        {
          "output_type": "stream",
          "name": "stdout",
          "text": [
            "Model: \"sequential_5\"\n",
            "_________________________________________________________________\n",
            " Layer (type)                Output Shape              Param #   \n",
            "=================================================================\n",
            " dense_15 (Dense)            (None, 512)               4096      \n",
            "                                                                 \n",
            " dropout_10 (Dropout)        (None, 512)               0         \n",
            "                                                                 \n",
            " dense_16 (Dense)            (None, 512)               262656    \n",
            "                                                                 \n",
            " dropout_11 (Dropout)        (None, 512)               0         \n",
            "                                                                 \n",
            " dense_17 (Dense)            (None, 10)                5130      \n",
            "                                                                 \n",
            "=================================================================\n",
            "Total params: 271,882\n",
            "Trainable params: 271,882\n",
            "Non-trainable params: 0\n",
            "_________________________________________________________________\n"
          ]
        }
      ],
      "source": [
        "model.summary()"
      ]
    },
    {
      "cell_type": "code",
      "source": [
        "model.compile(optimizer = 'adam' , loss = 'categorical_crossentropy' ,metrics= ['accuracy'])"
      ],
      "metadata": {
        "id": "ZqLFWXS-Vdth"
      },
      "execution_count": null,
      "outputs": []
    },
    {
      "cell_type": "code",
      "execution_count": null,
      "metadata": {
        "id": "Tq4OjymxGDfP",
        "colab": {
          "base_uri": "https://localhost:8080/"
        },
        "outputId": "4d1bb0f6-d0e1-4ff6-ad8d-742d544edb61"
      },
      "outputs": [
        {
          "output_type": "stream",
          "name": "stdout",
          "text": [
            "Epoch 1/150\n",
            "28/28 [==============================] - 1s 15ms/step - loss: 0.9298 - accuracy: 0.7687 - val_loss: 0.4448 - val_accuracy: 0.8716\n",
            "Epoch 2/150\n",
            "28/28 [==============================] - 0s 8ms/step - loss: 0.6280 - accuracy: 0.8009 - val_loss: 0.3882 - val_accuracy: 0.8716\n",
            "Epoch 3/150\n",
            "28/28 [==============================] - 0s 9ms/step - loss: 0.6436 - accuracy: 0.8124 - val_loss: 0.6537 - val_accuracy: 0.6606\n",
            "Epoch 4/150\n",
            "28/28 [==============================] - 0s 8ms/step - loss: 0.5736 - accuracy: 0.8285 - val_loss: 0.8085 - val_accuracy: 0.1422\n",
            "Epoch 5/150\n",
            "28/28 [==============================] - 0s 8ms/step - loss: 0.5389 - accuracy: 0.8239 - val_loss: 0.3699 - val_accuracy: 0.8716\n",
            "Epoch 6/150\n",
            "28/28 [==============================] - 0s 8ms/step - loss: 0.4864 - accuracy: 0.8481 - val_loss: 0.3876 - val_accuracy: 0.8716\n",
            "Epoch 7/150\n",
            "28/28 [==============================] - 0s 8ms/step - loss: 0.4702 - accuracy: 0.8446 - val_loss: 0.4073 - val_accuracy: 0.8716\n",
            "Epoch 8/150\n",
            "28/28 [==============================] - 0s 8ms/step - loss: 0.4539 - accuracy: 0.8516 - val_loss: 0.3871 - val_accuracy: 0.8716\n",
            "Epoch 9/150\n",
            "28/28 [==============================] - 0s 8ms/step - loss: 0.4429 - accuracy: 0.8573 - val_loss: 0.3765 - val_accuracy: 0.8716\n",
            "Epoch 10/150\n",
            "28/28 [==============================] - 0s 8ms/step - loss: 0.4260 - accuracy: 0.8608 - val_loss: 0.3945 - val_accuracy: 0.8716\n",
            "Epoch 11/150\n",
            "28/28 [==============================] - 0s 8ms/step - loss: 0.4244 - accuracy: 0.8562 - val_loss: 0.4169 - val_accuracy: 0.8716\n",
            "Epoch 12/150\n",
            "28/28 [==============================] - 0s 9ms/step - loss: 0.4371 - accuracy: 0.8573 - val_loss: 0.3624 - val_accuracy: 0.8716\n",
            "Epoch 13/150\n",
            "28/28 [==============================] - 0s 8ms/step - loss: 0.4076 - accuracy: 0.8608 - val_loss: 0.3650 - val_accuracy: 0.8716\n",
            "Epoch 14/150\n",
            "28/28 [==============================] - 0s 8ms/step - loss: 0.4265 - accuracy: 0.8562 - val_loss: 0.3584 - val_accuracy: 0.8716\n",
            "Epoch 15/150\n",
            "28/28 [==============================] - 0s 8ms/step - loss: 0.4345 - accuracy: 0.8585 - val_loss: 0.3630 - val_accuracy: 0.8716\n",
            "Epoch 16/150\n",
            "28/28 [==============================] - 0s 8ms/step - loss: 0.3834 - accuracy: 0.8608 - val_loss: 0.3733 - val_accuracy: 0.8716\n",
            "Epoch 17/150\n",
            "28/28 [==============================] - 0s 8ms/step - loss: 0.3959 - accuracy: 0.8585 - val_loss: 0.3626 - val_accuracy: 0.8716\n",
            "Epoch 18/150\n",
            "28/28 [==============================] - 0s 8ms/step - loss: 0.4431 - accuracy: 0.8562 - val_loss: 0.3814 - val_accuracy: 0.8716\n",
            "Epoch 19/150\n",
            "28/28 [==============================] - 0s 9ms/step - loss: 0.4071 - accuracy: 0.8608 - val_loss: 0.3566 - val_accuracy: 0.8716\n",
            "Epoch 20/150\n",
            "28/28 [==============================] - 0s 8ms/step - loss: 0.3876 - accuracy: 0.8608 - val_loss: 0.3999 - val_accuracy: 0.8716\n",
            "Epoch 21/150\n",
            "28/28 [==============================] - 0s 8ms/step - loss: 0.4073 - accuracy: 0.8619 - val_loss: 0.3554 - val_accuracy: 0.8716\n",
            "Epoch 22/150\n",
            "28/28 [==============================] - 0s 8ms/step - loss: 0.3883 - accuracy: 0.8608 - val_loss: 0.3467 - val_accuracy: 0.8716\n",
            "Epoch 23/150\n",
            "28/28 [==============================] - 0s 8ms/step - loss: 0.3785 - accuracy: 0.8596 - val_loss: 0.3429 - val_accuracy: 0.8716\n",
            "Epoch 24/150\n",
            "28/28 [==============================] - 0s 8ms/step - loss: 0.3840 - accuracy: 0.8596 - val_loss: 0.3436 - val_accuracy: 0.8716\n",
            "Epoch 25/150\n",
            "28/28 [==============================] - 0s 8ms/step - loss: 0.3921 - accuracy: 0.8585 - val_loss: 0.4069 - val_accuracy: 0.8716\n",
            "Epoch 26/150\n",
            "28/28 [==============================] - 0s 8ms/step - loss: 0.3892 - accuracy: 0.8608 - val_loss: 0.3410 - val_accuracy: 0.8716\n",
            "Epoch 27/150\n",
            "28/28 [==============================] - 0s 8ms/step - loss: 0.3694 - accuracy: 0.8608 - val_loss: 0.3302 - val_accuracy: 0.8716\n",
            "Epoch 28/150\n",
            "28/28 [==============================] - 0s 9ms/step - loss: 0.3714 - accuracy: 0.8550 - val_loss: 0.3316 - val_accuracy: 0.8716\n",
            "Epoch 29/150\n",
            "28/28 [==============================] - 0s 8ms/step - loss: 0.3644 - accuracy: 0.8608 - val_loss: 0.3656 - val_accuracy: 0.8761\n",
            "Epoch 30/150\n",
            "28/28 [==============================] - 0s 9ms/step - loss: 0.3686 - accuracy: 0.8585 - val_loss: 0.3424 - val_accuracy: 0.8716\n",
            "Epoch 31/150\n",
            "28/28 [==============================] - 0s 8ms/step - loss: 0.3622 - accuracy: 0.8642 - val_loss: 0.3444 - val_accuracy: 0.8716\n",
            "Epoch 32/150\n",
            "28/28 [==============================] - 0s 8ms/step - loss: 0.3497 - accuracy: 0.8677 - val_loss: 0.3253 - val_accuracy: 0.8716\n",
            "Epoch 33/150\n",
            "28/28 [==============================] - 0s 9ms/step - loss: 0.3414 - accuracy: 0.8642 - val_loss: 0.3269 - val_accuracy: 0.8670\n",
            "Epoch 34/150\n",
            "28/28 [==============================] - 0s 8ms/step - loss: 0.3440 - accuracy: 0.8631 - val_loss: 0.3275 - val_accuracy: 0.8716\n",
            "Epoch 35/150\n",
            "28/28 [==============================] - 0s 8ms/step - loss: 0.3548 - accuracy: 0.8619 - val_loss: 0.3359 - val_accuracy: 0.8899\n",
            "Epoch 36/150\n",
            "28/28 [==============================] - 0s 8ms/step - loss: 0.3474 - accuracy: 0.8711 - val_loss: 0.3741 - val_accuracy: 0.8624\n",
            "Epoch 37/150\n",
            "28/28 [==============================] - 0s 9ms/step - loss: 0.3617 - accuracy: 0.8608 - val_loss: 0.3237 - val_accuracy: 0.8716\n",
            "Epoch 38/150\n",
            "28/28 [==============================] - 0s 9ms/step - loss: 0.3457 - accuracy: 0.8596 - val_loss: 0.3347 - val_accuracy: 0.8716\n",
            "Epoch 39/150\n",
            "28/28 [==============================] - 0s 8ms/step - loss: 0.3554 - accuracy: 0.8573 - val_loss: 0.3251 - val_accuracy: 0.8716\n",
            "Epoch 40/150\n",
            "28/28 [==============================] - 0s 8ms/step - loss: 0.3368 - accuracy: 0.8562 - val_loss: 0.3177 - val_accuracy: 0.8761\n",
            "Epoch 41/150\n",
            "28/28 [==============================] - 0s 8ms/step - loss: 0.3305 - accuracy: 0.8608 - val_loss: 0.3117 - val_accuracy: 0.8761\n",
            "Epoch 42/150\n",
            "28/28 [==============================] - 0s 8ms/step - loss: 0.3434 - accuracy: 0.8516 - val_loss: 0.3136 - val_accuracy: 0.8716\n",
            "Epoch 43/150\n",
            "28/28 [==============================] - 0s 8ms/step - loss: 0.3302 - accuracy: 0.8596 - val_loss: 0.3154 - val_accuracy: 0.8807\n",
            "Epoch 44/150\n",
            "28/28 [==============================] - 0s 8ms/step - loss: 0.3214 - accuracy: 0.8700 - val_loss: 0.3193 - val_accuracy: 0.8807\n",
            "Epoch 45/150\n",
            "28/28 [==============================] - 0s 8ms/step - loss: 0.3389 - accuracy: 0.8539 - val_loss: 0.3370 - val_accuracy: 0.8991\n",
            "Epoch 46/150\n",
            "28/28 [==============================] - 0s 9ms/step - loss: 0.3454 - accuracy: 0.8665 - val_loss: 0.3100 - val_accuracy: 0.8807\n",
            "Epoch 47/150\n",
            "28/28 [==============================] - 0s 9ms/step - loss: 0.3973 - accuracy: 0.8516 - val_loss: 0.3902 - val_accuracy: 0.8349\n",
            "Epoch 48/150\n",
            "28/28 [==============================] - 0s 9ms/step - loss: 0.3621 - accuracy: 0.8562 - val_loss: 0.3574 - val_accuracy: 0.8670\n",
            "Epoch 49/150\n",
            "28/28 [==============================] - 0s 8ms/step - loss: 0.3642 - accuracy: 0.8562 - val_loss: 0.3299 - val_accuracy: 0.8807\n",
            "Epoch 50/150\n",
            "28/28 [==============================] - 0s 8ms/step - loss: 0.3328 - accuracy: 0.8585 - val_loss: 0.3153 - val_accuracy: 0.8899\n",
            "Epoch 51/150\n",
            "28/28 [==============================] - 0s 9ms/step - loss: 0.3223 - accuracy: 0.8734 - val_loss: 0.3273 - val_accuracy: 0.8716\n",
            "Epoch 52/150\n",
            "28/28 [==============================] - 0s 8ms/step - loss: 0.3376 - accuracy: 0.8504 - val_loss: 0.3163 - val_accuracy: 0.8807\n",
            "Epoch 53/150\n",
            "28/28 [==============================] - 0s 9ms/step - loss: 0.3303 - accuracy: 0.8608 - val_loss: 0.3297 - val_accuracy: 0.8670\n",
            "Epoch 54/150\n",
            "28/28 [==============================] - 0s 8ms/step - loss: 0.3274 - accuracy: 0.8585 - val_loss: 0.3108 - val_accuracy: 0.8716\n",
            "Epoch 55/150\n",
            "28/28 [==============================] - 0s 9ms/step - loss: 0.3086 - accuracy: 0.8654 - val_loss: 0.3134 - val_accuracy: 0.8716\n",
            "Epoch 56/150\n",
            "28/28 [==============================] - 0s 8ms/step - loss: 0.3265 - accuracy: 0.8619 - val_loss: 0.3035 - val_accuracy: 0.8853\n",
            "Epoch 57/150\n",
            "28/28 [==============================] - 0s 8ms/step - loss: 0.3076 - accuracy: 0.8688 - val_loss: 0.3289 - val_accuracy: 0.8807\n",
            "Epoch 58/150\n",
            "28/28 [==============================] - 0s 9ms/step - loss: 0.3246 - accuracy: 0.8654 - val_loss: 0.3202 - val_accuracy: 0.8761\n",
            "Epoch 59/150\n",
            "28/28 [==============================] - 0s 8ms/step - loss: 0.3216 - accuracy: 0.8631 - val_loss: 0.3452 - val_accuracy: 0.8716\n",
            "Epoch 60/150\n",
            "28/28 [==============================] - 0s 8ms/step - loss: 0.3213 - accuracy: 0.8619 - val_loss: 0.3022 - val_accuracy: 0.8761\n",
            "Epoch 61/150\n",
            "28/28 [==============================] - 0s 9ms/step - loss: 0.3254 - accuracy: 0.8596 - val_loss: 0.3352 - val_accuracy: 0.9037\n",
            "Epoch 62/150\n",
            "28/28 [==============================] - 0s 9ms/step - loss: 0.3150 - accuracy: 0.8631 - val_loss: 0.3124 - val_accuracy: 0.8761\n",
            "Epoch 63/150\n",
            "28/28 [==============================] - 0s 8ms/step - loss: 0.3165 - accuracy: 0.8573 - val_loss: 0.3091 - val_accuracy: 0.8761\n",
            "Epoch 64/150\n",
            "28/28 [==============================] - 0s 9ms/step - loss: 0.3162 - accuracy: 0.8654 - val_loss: 0.3039 - val_accuracy: 0.8807\n",
            "Epoch 65/150\n",
            "28/28 [==============================] - 0s 8ms/step - loss: 0.3139 - accuracy: 0.8608 - val_loss: 0.3003 - val_accuracy: 0.8899\n",
            "Epoch 66/150\n",
            "28/28 [==============================] - 0s 8ms/step - loss: 0.3103 - accuracy: 0.8608 - val_loss: 0.3106 - val_accuracy: 0.8991\n",
            "Epoch 67/150\n",
            "28/28 [==============================] - 0s 8ms/step - loss: 0.3106 - accuracy: 0.8608 - val_loss: 0.3029 - val_accuracy: 0.8807\n",
            "Epoch 68/150\n",
            "28/28 [==============================] - 0s 9ms/step - loss: 0.3101 - accuracy: 0.8688 - val_loss: 0.3135 - val_accuracy: 0.8716\n",
            "Epoch 69/150\n",
            "28/28 [==============================] - 0s 8ms/step - loss: 0.3526 - accuracy: 0.8493 - val_loss: 0.3096 - val_accuracy: 0.8761\n",
            "Epoch 70/150\n",
            "28/28 [==============================] - 0s 8ms/step - loss: 0.3161 - accuracy: 0.8619 - val_loss: 0.3177 - val_accuracy: 0.8761\n",
            "Epoch 71/150\n",
            "28/28 [==============================] - 0s 8ms/step - loss: 0.3144 - accuracy: 0.8642 - val_loss: 0.3002 - val_accuracy: 0.8761\n",
            "Epoch 72/150\n",
            "28/28 [==============================] - 0s 9ms/step - loss: 0.3083 - accuracy: 0.8665 - val_loss: 0.2971 - val_accuracy: 0.8807\n",
            "Epoch 73/150\n",
            "28/28 [==============================] - 0s 8ms/step - loss: 0.3204 - accuracy: 0.8619 - val_loss: 0.3051 - val_accuracy: 0.8853\n",
            "Epoch 74/150\n",
            "28/28 [==============================] - 0s 8ms/step - loss: 0.3124 - accuracy: 0.8596 - val_loss: 0.3072 - val_accuracy: 0.8761\n",
            "Epoch 75/150\n",
            "28/28 [==============================] - 0s 8ms/step - loss: 0.3037 - accuracy: 0.8654 - val_loss: 0.2977 - val_accuracy: 0.8853\n",
            "Epoch 76/150\n",
            "28/28 [==============================] - 0s 8ms/step - loss: 0.3090 - accuracy: 0.8608 - val_loss: 0.3006 - val_accuracy: 0.8761\n",
            "Epoch 77/150\n",
            "28/28 [==============================] - 0s 8ms/step - loss: 0.3033 - accuracy: 0.8631 - val_loss: 0.2980 - val_accuracy: 0.8899\n",
            "Epoch 78/150\n",
            "28/28 [==============================] - 0s 9ms/step - loss: 0.3231 - accuracy: 0.8539 - val_loss: 0.3076 - val_accuracy: 0.8716\n",
            "Epoch 79/150\n",
            "28/28 [==============================] - 0s 8ms/step - loss: 0.3081 - accuracy: 0.8654 - val_loss: 0.3078 - val_accuracy: 0.8761\n",
            "Epoch 80/150\n",
            "28/28 [==============================] - 0s 8ms/step - loss: 0.3045 - accuracy: 0.8711 - val_loss: 0.3272 - val_accuracy: 0.8945\n",
            "Epoch 81/150\n",
            "28/28 [==============================] - 0s 9ms/step - loss: 0.3075 - accuracy: 0.8631 - val_loss: 0.3162 - val_accuracy: 0.9037\n",
            "Epoch 82/150\n",
            "28/28 [==============================] - 0s 9ms/step - loss: 0.3087 - accuracy: 0.8654 - val_loss: 0.3015 - val_accuracy: 0.8716\n",
            "Epoch 83/150\n",
            "28/28 [==============================] - 0s 8ms/step - loss: 0.3025 - accuracy: 0.8504 - val_loss: 0.3031 - val_accuracy: 0.8807\n",
            "Epoch 84/150\n",
            "28/28 [==============================] - 0s 8ms/step - loss: 0.3030 - accuracy: 0.8642 - val_loss: 0.3046 - val_accuracy: 0.8716\n",
            "Epoch 85/150\n",
            "28/28 [==============================] - 0s 9ms/step - loss: 0.3061 - accuracy: 0.8619 - val_loss: 0.2967 - val_accuracy: 0.8853\n",
            "Epoch 86/150\n",
            "28/28 [==============================] - 0s 8ms/step - loss: 0.2918 - accuracy: 0.8608 - val_loss: 0.2975 - val_accuracy: 0.8853\n",
            "Epoch 87/150\n",
            "28/28 [==============================] - 0s 9ms/step - loss: 0.3086 - accuracy: 0.8642 - val_loss: 0.3017 - val_accuracy: 0.8716\n",
            "Epoch 88/150\n",
            "28/28 [==============================] - 0s 8ms/step - loss: 0.3114 - accuracy: 0.8677 - val_loss: 0.3037 - val_accuracy: 0.8761\n",
            "Epoch 89/150\n",
            "28/28 [==============================] - 0s 9ms/step - loss: 0.3052 - accuracy: 0.8608 - val_loss: 0.3015 - val_accuracy: 0.9037\n",
            "Epoch 90/150\n",
            "28/28 [==============================] - 0s 8ms/step - loss: 0.2946 - accuracy: 0.8642 - val_loss: 0.2960 - val_accuracy: 0.8716\n",
            "Epoch 91/150\n",
            "28/28 [==============================] - 0s 8ms/step - loss: 0.2972 - accuracy: 0.8619 - val_loss: 0.3330 - val_accuracy: 0.8716\n",
            "Epoch 92/150\n",
            "28/28 [==============================] - 0s 9ms/step - loss: 0.3106 - accuracy: 0.8631 - val_loss: 0.3058 - val_accuracy: 0.8761\n",
            "Epoch 93/150\n",
            "28/28 [==============================] - 0s 8ms/step - loss: 0.2886 - accuracy: 0.8711 - val_loss: 0.3089 - val_accuracy: 0.9083\n",
            "Epoch 94/150\n",
            "28/28 [==============================] - 0s 9ms/step - loss: 0.3092 - accuracy: 0.8631 - val_loss: 0.3006 - val_accuracy: 0.8761\n",
            "Epoch 95/150\n",
            "28/28 [==============================] - 0s 8ms/step - loss: 0.3060 - accuracy: 0.8642 - val_loss: 0.2974 - val_accuracy: 0.8761\n",
            "Epoch 96/150\n",
            "28/28 [==============================] - 0s 8ms/step - loss: 0.2972 - accuracy: 0.8619 - val_loss: 0.3055 - val_accuracy: 0.8761\n",
            "Epoch 97/150\n",
            "28/28 [==============================] - 0s 8ms/step - loss: 0.3039 - accuracy: 0.8654 - val_loss: 0.2944 - val_accuracy: 0.8807\n",
            "Epoch 98/150\n",
            "28/28 [==============================] - 0s 9ms/step - loss: 0.3016 - accuracy: 0.8631 - val_loss: 0.2961 - val_accuracy: 0.8807\n",
            "Epoch 99/150\n",
            "28/28 [==============================] - 0s 9ms/step - loss: 0.2944 - accuracy: 0.8642 - val_loss: 0.3022 - val_accuracy: 0.8761\n",
            "Epoch 100/150\n",
            "28/28 [==============================] - 0s 9ms/step - loss: 0.2979 - accuracy: 0.8631 - val_loss: 0.3083 - val_accuracy: 0.8761\n",
            "Epoch 101/150\n",
            "28/28 [==============================] - 0s 8ms/step - loss: 0.2860 - accuracy: 0.8642 - val_loss: 0.2996 - val_accuracy: 0.8716\n",
            "Epoch 102/150\n",
            "28/28 [==============================] - 0s 8ms/step - loss: 0.2865 - accuracy: 0.8654 - val_loss: 0.2943 - val_accuracy: 0.8853\n",
            "Epoch 103/150\n",
            "28/28 [==============================] - 0s 8ms/step - loss: 0.2920 - accuracy: 0.8734 - val_loss: 0.3166 - val_accuracy: 0.8945\n",
            "Epoch 104/150\n",
            "28/28 [==============================] - 0s 8ms/step - loss: 0.2975 - accuracy: 0.8642 - val_loss: 0.3144 - val_accuracy: 0.8761\n",
            "Epoch 105/150\n",
            "28/28 [==============================] - 0s 8ms/step - loss: 0.3039 - accuracy: 0.8688 - val_loss: 0.3120 - val_accuracy: 0.9037\n",
            "Epoch 106/150\n",
            "28/28 [==============================] - 0s 8ms/step - loss: 0.3095 - accuracy: 0.8665 - val_loss: 0.2943 - val_accuracy: 0.9083\n",
            "Epoch 107/150\n",
            "28/28 [==============================] - 0s 9ms/step - loss: 0.3048 - accuracy: 0.8711 - val_loss: 0.3169 - val_accuracy: 0.8761\n",
            "Epoch 108/150\n",
            "28/28 [==============================] - 0s 8ms/step - loss: 0.2934 - accuracy: 0.8734 - val_loss: 0.2957 - val_accuracy: 0.8761\n",
            "Epoch 109/150\n",
            "28/28 [==============================] - 0s 8ms/step - loss: 0.2955 - accuracy: 0.8711 - val_loss: 0.2990 - val_accuracy: 0.8761\n",
            "Epoch 110/150\n",
            "28/28 [==============================] - 0s 8ms/step - loss: 0.2937 - accuracy: 0.8711 - val_loss: 0.3226 - val_accuracy: 0.8945\n",
            "Epoch 111/150\n",
            "28/28 [==============================] - 0s 9ms/step - loss: 0.2971 - accuracy: 0.8665 - val_loss: 0.2912 - val_accuracy: 0.8807\n",
            "Epoch 112/150\n",
            "28/28 [==============================] - 0s 8ms/step - loss: 0.2951 - accuracy: 0.8723 - val_loss: 0.2958 - val_accuracy: 0.8853\n",
            "Epoch 113/150\n",
            "28/28 [==============================] - 0s 8ms/step - loss: 0.2987 - accuracy: 0.8677 - val_loss: 0.2931 - val_accuracy: 0.8945\n",
            "Epoch 114/150\n",
            "28/28 [==============================] - 0s 8ms/step - loss: 0.2841 - accuracy: 0.8688 - val_loss: 0.2924 - val_accuracy: 0.8899\n",
            "Epoch 115/150\n",
            "28/28 [==============================] - 0s 9ms/step - loss: 0.3004 - accuracy: 0.8642 - val_loss: 0.2916 - val_accuracy: 0.8945\n",
            "Epoch 116/150\n",
            "28/28 [==============================] - 0s 8ms/step - loss: 0.2822 - accuracy: 0.8757 - val_loss: 0.2903 - val_accuracy: 0.8853\n",
            "Epoch 117/150\n",
            "28/28 [==============================] - 0s 8ms/step - loss: 0.2898 - accuracy: 0.8654 - val_loss: 0.3013 - val_accuracy: 0.9037\n",
            "Epoch 118/150\n",
            "28/28 [==============================] - 0s 8ms/step - loss: 0.2891 - accuracy: 0.8746 - val_loss: 0.3139 - val_accuracy: 0.8853\n",
            "Epoch 119/150\n",
            "28/28 [==============================] - 0s 8ms/step - loss: 0.2923 - accuracy: 0.8665 - val_loss: 0.2948 - val_accuracy: 0.8807\n",
            "Epoch 120/150\n",
            "28/28 [==============================] - 0s 8ms/step - loss: 0.2873 - accuracy: 0.8757 - val_loss: 0.3101 - val_accuracy: 0.8807\n",
            "Epoch 121/150\n",
            "28/28 [==============================] - 0s 8ms/step - loss: 0.2968 - accuracy: 0.8711 - val_loss: 0.2886 - val_accuracy: 0.9083\n",
            "Epoch 122/150\n",
            "28/28 [==============================] - 0s 8ms/step - loss: 0.2734 - accuracy: 0.8792 - val_loss: 0.3006 - val_accuracy: 0.8807\n",
            "Epoch 123/150\n",
            "28/28 [==============================] - 0s 8ms/step - loss: 0.2914 - accuracy: 0.8596 - val_loss: 0.2947 - val_accuracy: 0.8807\n",
            "Epoch 124/150\n",
            "28/28 [==============================] - 0s 9ms/step - loss: 0.2921 - accuracy: 0.8677 - val_loss: 0.2893 - val_accuracy: 0.8853\n",
            "Epoch 125/150\n",
            "28/28 [==============================] - 0s 8ms/step - loss: 0.2988 - accuracy: 0.8654 - val_loss: 0.3208 - val_accuracy: 0.8853\n",
            "Epoch 126/150\n",
            "28/28 [==============================] - 0s 9ms/step - loss: 0.2971 - accuracy: 0.8711 - val_loss: 0.3060 - val_accuracy: 0.8991\n",
            "Epoch 127/150\n",
            "28/28 [==============================] - 0s 9ms/step - loss: 0.2912 - accuracy: 0.8769 - val_loss: 0.2966 - val_accuracy: 0.8807\n",
            "Epoch 128/150\n",
            "28/28 [==============================] - 0s 9ms/step - loss: 0.2895 - accuracy: 0.8780 - val_loss: 0.2923 - val_accuracy: 0.9083\n",
            "Epoch 129/150\n",
            "28/28 [==============================] - 0s 8ms/step - loss: 0.2942 - accuracy: 0.8711 - val_loss: 0.2901 - val_accuracy: 0.8899\n",
            "Epoch 130/150\n",
            "28/28 [==============================] - 0s 8ms/step - loss: 0.2867 - accuracy: 0.8700 - val_loss: 0.2963 - val_accuracy: 0.9037\n",
            "Epoch 131/150\n",
            "28/28 [==============================] - 0s 8ms/step - loss: 0.2938 - accuracy: 0.8780 - val_loss: 0.2901 - val_accuracy: 0.8761\n",
            "Epoch 132/150\n",
            "28/28 [==============================] - 0s 9ms/step - loss: 0.2877 - accuracy: 0.8757 - val_loss: 0.2984 - val_accuracy: 0.8991\n",
            "Epoch 133/150\n",
            "28/28 [==============================] - 0s 8ms/step - loss: 0.2910 - accuracy: 0.8826 - val_loss: 0.2869 - val_accuracy: 0.8807\n",
            "Epoch 134/150\n",
            "28/28 [==============================] - 0s 8ms/step - loss: 0.2847 - accuracy: 0.8734 - val_loss: 0.2986 - val_accuracy: 0.8899\n",
            "Epoch 135/150\n",
            "28/28 [==============================] - 0s 8ms/step - loss: 0.2913 - accuracy: 0.8700 - val_loss: 0.2953 - val_accuracy: 0.8853\n",
            "Epoch 136/150\n",
            "28/28 [==============================] - 0s 8ms/step - loss: 0.2766 - accuracy: 0.8838 - val_loss: 0.2842 - val_accuracy: 0.9037\n",
            "Epoch 137/150\n",
            "28/28 [==============================] - 0s 8ms/step - loss: 0.2907 - accuracy: 0.8539 - val_loss: 0.2976 - val_accuracy: 0.8807\n",
            "Epoch 138/150\n",
            "28/28 [==============================] - 0s 8ms/step - loss: 0.2930 - accuracy: 0.8654 - val_loss: 0.2912 - val_accuracy: 0.8853\n",
            "Epoch 139/150\n",
            "28/28 [==============================] - 0s 8ms/step - loss: 0.2824 - accuracy: 0.8723 - val_loss: 0.3085 - val_accuracy: 0.8899\n",
            "Epoch 140/150\n",
            "28/28 [==============================] - 0s 8ms/step - loss: 0.2971 - accuracy: 0.8677 - val_loss: 0.2904 - val_accuracy: 0.9037\n",
            "Epoch 141/150\n",
            "28/28 [==============================] - 0s 9ms/step - loss: 0.2843 - accuracy: 0.8677 - val_loss: 0.3153 - val_accuracy: 0.8761\n",
            "Epoch 142/150\n",
            "28/28 [==============================] - 0s 8ms/step - loss: 0.2946 - accuracy: 0.8654 - val_loss: 0.2894 - val_accuracy: 0.8945\n",
            "Epoch 143/150\n",
            "28/28 [==============================] - 0s 8ms/step - loss: 0.2840 - accuracy: 0.8734 - val_loss: 0.2876 - val_accuracy: 0.8807\n",
            "Epoch 144/150\n",
            "28/28 [==============================] - 0s 8ms/step - loss: 0.2779 - accuracy: 0.8826 - val_loss: 0.3032 - val_accuracy: 0.8853\n",
            "Epoch 145/150\n",
            "28/28 [==============================] - 0s 9ms/step - loss: 0.2791 - accuracy: 0.8734 - val_loss: 0.2927 - val_accuracy: 0.8945\n",
            "Epoch 146/150\n",
            "28/28 [==============================] - 0s 8ms/step - loss: 0.2991 - accuracy: 0.8700 - val_loss: 0.2850 - val_accuracy: 0.8807\n",
            "Epoch 147/150\n",
            "28/28 [==============================] - 0s 8ms/step - loss: 0.2979 - accuracy: 0.8688 - val_loss: 0.2907 - val_accuracy: 0.8899\n",
            "Epoch 148/150\n",
            "28/28 [==============================] - 0s 8ms/step - loss: 0.2920 - accuracy: 0.8654 - val_loss: 0.3005 - val_accuracy: 0.8991\n",
            "Epoch 149/150\n",
            "28/28 [==============================] - 0s 8ms/step - loss: 0.2921 - accuracy: 0.8746 - val_loss: 0.2857 - val_accuracy: 0.8899\n",
            "Epoch 150/150\n",
            "28/28 [==============================] - 0s 9ms/step - loss: 0.2778 - accuracy: 0.8711 - val_loss: 0.2968 - val_accuracy: 0.8945\n"
          ]
        }
      ],
      "source": [
        "history = model.fit(x_train, y_train, validation_split = 0.2 , batch_size = 32, epochs = 150, verbose=1)"
      ]
    },
    {
      "cell_type": "code",
      "execution_count": null,
      "metadata": {
        "id": "IWcElWEkGZFd",
        "colab": {
          "base_uri": "https://localhost:8080/",
          "height": 423
        },
        "outputId": "bba7788f-8c14-42e3-d443-8b348ef057fe"
      },
      "outputs": [
        {
          "output_type": "execute_result",
          "data": {
            "text/html": [
              "\n",
              "  <div id=\"df-69884068-9653-4970-a420-ee29ba8c90c0\">\n",
              "    <div class=\"colab-df-container\">\n",
              "      <div>\n",
              "<style scoped>\n",
              "    .dataframe tbody tr th:only-of-type {\n",
              "        vertical-align: middle;\n",
              "    }\n",
              "\n",
              "    .dataframe tbody tr th {\n",
              "        vertical-align: top;\n",
              "    }\n",
              "\n",
              "    .dataframe thead th {\n",
              "        text-align: right;\n",
              "    }\n",
              "</style>\n",
              "<table border=\"1\" class=\"dataframe\">\n",
              "  <thead>\n",
              "    <tr style=\"text-align: right;\">\n",
              "      <th></th>\n",
              "      <th>loss</th>\n",
              "      <th>accuracy</th>\n",
              "      <th>val_loss</th>\n",
              "      <th>val_accuracy</th>\n",
              "    </tr>\n",
              "  </thead>\n",
              "  <tbody>\n",
              "    <tr>\n",
              "      <th>0</th>\n",
              "      <td>0.929795</td>\n",
              "      <td>0.768700</td>\n",
              "      <td>0.444794</td>\n",
              "      <td>0.871560</td>\n",
              "    </tr>\n",
              "    <tr>\n",
              "      <th>1</th>\n",
              "      <td>0.628007</td>\n",
              "      <td>0.800921</td>\n",
              "      <td>0.388184</td>\n",
              "      <td>0.871560</td>\n",
              "    </tr>\n",
              "    <tr>\n",
              "      <th>2</th>\n",
              "      <td>0.643575</td>\n",
              "      <td>0.812428</td>\n",
              "      <td>0.653654</td>\n",
              "      <td>0.660550</td>\n",
              "    </tr>\n",
              "    <tr>\n",
              "      <th>3</th>\n",
              "      <td>0.573594</td>\n",
              "      <td>0.828539</td>\n",
              "      <td>0.808491</td>\n",
              "      <td>0.142202</td>\n",
              "    </tr>\n",
              "    <tr>\n",
              "      <th>4</th>\n",
              "      <td>0.538911</td>\n",
              "      <td>0.823936</td>\n",
              "      <td>0.369908</td>\n",
              "      <td>0.871560</td>\n",
              "    </tr>\n",
              "    <tr>\n",
              "      <th>...</th>\n",
              "      <td>...</td>\n",
              "      <td>...</td>\n",
              "      <td>...</td>\n",
              "      <td>...</td>\n",
              "    </tr>\n",
              "    <tr>\n",
              "      <th>145</th>\n",
              "      <td>0.299062</td>\n",
              "      <td>0.869965</td>\n",
              "      <td>0.284980</td>\n",
              "      <td>0.880734</td>\n",
              "    </tr>\n",
              "    <tr>\n",
              "      <th>146</th>\n",
              "      <td>0.297940</td>\n",
              "      <td>0.868815</td>\n",
              "      <td>0.290664</td>\n",
              "      <td>0.889908</td>\n",
              "    </tr>\n",
              "    <tr>\n",
              "      <th>147</th>\n",
              "      <td>0.291983</td>\n",
              "      <td>0.865362</td>\n",
              "      <td>0.300474</td>\n",
              "      <td>0.899083</td>\n",
              "    </tr>\n",
              "    <tr>\n",
              "      <th>148</th>\n",
              "      <td>0.292111</td>\n",
              "      <td>0.874568</td>\n",
              "      <td>0.285708</td>\n",
              "      <td>0.889908</td>\n",
              "    </tr>\n",
              "    <tr>\n",
              "      <th>149</th>\n",
              "      <td>0.277771</td>\n",
              "      <td>0.871116</td>\n",
              "      <td>0.296827</td>\n",
              "      <td>0.894495</td>\n",
              "    </tr>\n",
              "  </tbody>\n",
              "</table>\n",
              "<p>150 rows × 4 columns</p>\n",
              "</div>\n",
              "      <button class=\"colab-df-convert\" onclick=\"convertToInteractive('df-69884068-9653-4970-a420-ee29ba8c90c0')\"\n",
              "              title=\"Convert this dataframe to an interactive table.\"\n",
              "              style=\"display:none;\">\n",
              "        \n",
              "  <svg xmlns=\"http://www.w3.org/2000/svg\" height=\"24px\"viewBox=\"0 0 24 24\"\n",
              "       width=\"24px\">\n",
              "    <path d=\"M0 0h24v24H0V0z\" fill=\"none\"/>\n",
              "    <path d=\"M18.56 5.44l.94 2.06.94-2.06 2.06-.94-2.06-.94-.94-2.06-.94 2.06-2.06.94zm-11 1L8.5 8.5l.94-2.06 2.06-.94-2.06-.94L8.5 2.5l-.94 2.06-2.06.94zm10 10l.94 2.06.94-2.06 2.06-.94-2.06-.94-.94-2.06-.94 2.06-2.06.94z\"/><path d=\"M17.41 7.96l-1.37-1.37c-.4-.4-.92-.59-1.43-.59-.52 0-1.04.2-1.43.59L10.3 9.45l-7.72 7.72c-.78.78-.78 2.05 0 2.83L4 21.41c.39.39.9.59 1.41.59.51 0 1.02-.2 1.41-.59l7.78-7.78 2.81-2.81c.8-.78.8-2.07 0-2.86zM5.41 20L4 18.59l7.72-7.72 1.47 1.35L5.41 20z\"/>\n",
              "  </svg>\n",
              "      </button>\n",
              "      \n",
              "  <style>\n",
              "    .colab-df-container {\n",
              "      display:flex;\n",
              "      flex-wrap:wrap;\n",
              "      gap: 12px;\n",
              "    }\n",
              "\n",
              "    .colab-df-convert {\n",
              "      background-color: #E8F0FE;\n",
              "      border: none;\n",
              "      border-radius: 50%;\n",
              "      cursor: pointer;\n",
              "      display: none;\n",
              "      fill: #1967D2;\n",
              "      height: 32px;\n",
              "      padding: 0 0 0 0;\n",
              "      width: 32px;\n",
              "    }\n",
              "\n",
              "    .colab-df-convert:hover {\n",
              "      background-color: #E2EBFA;\n",
              "      box-shadow: 0px 1px 2px rgba(60, 64, 67, 0.3), 0px 1px 3px 1px rgba(60, 64, 67, 0.15);\n",
              "      fill: #174EA6;\n",
              "    }\n",
              "\n",
              "    [theme=dark] .colab-df-convert {\n",
              "      background-color: #3B4455;\n",
              "      fill: #D2E3FC;\n",
              "    }\n",
              "\n",
              "    [theme=dark] .colab-df-convert:hover {\n",
              "      background-color: #434B5C;\n",
              "      box-shadow: 0px 1px 3px 1px rgba(0, 0, 0, 0.15);\n",
              "      filter: drop-shadow(0px 1px 2px rgba(0, 0, 0, 0.3));\n",
              "      fill: #FFFFFF;\n",
              "    }\n",
              "  </style>\n",
              "\n",
              "      <script>\n",
              "        const buttonEl =\n",
              "          document.querySelector('#df-69884068-9653-4970-a420-ee29ba8c90c0 button.colab-df-convert');\n",
              "        buttonEl.style.display =\n",
              "          google.colab.kernel.accessAllowed ? 'block' : 'none';\n",
              "\n",
              "        async function convertToInteractive(key) {\n",
              "          const element = document.querySelector('#df-69884068-9653-4970-a420-ee29ba8c90c0');\n",
              "          const dataTable =\n",
              "            await google.colab.kernel.invokeFunction('convertToInteractive',\n",
              "                                                     [key], {});\n",
              "          if (!dataTable) return;\n",
              "\n",
              "          const docLinkHtml = 'Like what you see? Visit the ' +\n",
              "            '<a target=\"_blank\" href=https://colab.research.google.com/notebooks/data_table.ipynb>data table notebook</a>'\n",
              "            + ' to learn more about interactive tables.';\n",
              "          element.innerHTML = '';\n",
              "          dataTable['output_type'] = 'display_data';\n",
              "          await google.colab.output.renderOutput(dataTable, element);\n",
              "          const docLink = document.createElement('div');\n",
              "          docLink.innerHTML = docLinkHtml;\n",
              "          element.appendChild(docLink);\n",
              "        }\n",
              "      </script>\n",
              "    </div>\n",
              "  </div>\n",
              "  "
            ],
            "text/plain": [
              "         loss  accuracy  val_loss  val_accuracy\n",
              "0    0.929795  0.768700  0.444794      0.871560\n",
              "1    0.628007  0.800921  0.388184      0.871560\n",
              "2    0.643575  0.812428  0.653654      0.660550\n",
              "3    0.573594  0.828539  0.808491      0.142202\n",
              "4    0.538911  0.823936  0.369908      0.871560\n",
              "..        ...       ...       ...           ...\n",
              "145  0.299062  0.869965  0.284980      0.880734\n",
              "146  0.297940  0.868815  0.290664      0.889908\n",
              "147  0.291983  0.865362  0.300474      0.899083\n",
              "148  0.292111  0.874568  0.285708      0.889908\n",
              "149  0.277771  0.871116  0.296827      0.894495\n",
              "\n",
              "[150 rows x 4 columns]"
            ]
          },
          "metadata": {},
          "execution_count": 410
        }
      ],
      "source": [
        "history_df = pd.DataFrame(history.history)\n",
        "history_df"
      ]
    },
    {
      "cell_type": "code",
      "execution_count": null,
      "metadata": {
        "id": "3NN4XHRbGe6N",
        "colab": {
          "base_uri": "https://localhost:8080/",
          "height": 295
        },
        "outputId": "7ab6ba2a-617c-45df-cee6-fa254ec3e721"
      },
      "outputs": [
        {
          "output_type": "display_data",
          "data": {
            "image/png": "[encoded data removed]",
            "text/plain": [
              "<Figure size 432x288 with 1 Axes>"
            ]
          },
          "metadata": {
            "needs_background": "light"
          }
        }
      ],
      "source": [
        "plt.plot(history.history['loss'], label='Loss training data')\n",
        "plt.plot(history.history['val_loss'], label='Val_loss validation data')\n",
        "plt.legend()\n",
        "plt.title('Loss vs Val_loss')\n",
        "plt.ylabel('Val_loss')\n",
        "plt.xlabel('Loss')\n",
        "plt.show()"
      ]
    },
    {
      "cell_type": "code",
      "execution_count": null,
      "metadata": {
        "id": "-pcggtR0Kgll",
        "colab": {
          "base_uri": "https://localhost:8080/",
          "height": 295
        },
        "outputId": "3237c710-1caa-49d3-a33b-c6e07cc35594"
      },
      "outputs": [
        {
          "output_type": "display_data",
          "data": {
            "image/png": "[encoded data removed]",
            "text/plain": [
              "<Figure size 432x288 with 1 Axes>"
            ]
          },
          "metadata": {
            "needs_background": "light"
          }
        }
      ],
      "source": [
        "plt.plot(history.history['accuracy'], label='Accuracy training data')\n",
        "plt.plot(history.history['val_accuracy'], label='Accuracy validation data')\n",
        "plt.legend()\n",
        "plt.title('Model accuracy')\n",
        "plt.ylabel('Accuracy')\n",
        "plt.xlabel('epoch')\n",
        "plt.show()"
      ]
    },
    {
      "cell_type": "code",
      "source": [
        "# predict \n",
        "pred = model.predict(x_test, batch_size = 32)\n",
        "pred = np.argmax(pred, axis=1)\n",
        "# label\n",
        "y_test = np.argmax(y_test, axis=1)\n",
        "\n",
        "print(y_test.shape, pred.shape)\n",
        "print(y_test[:5], pred[:5])\n",
        "# (272,) (272,)\n",
        "# [0 0 0 0 1] [0 0 0 0 0]"
      ],
      "metadata": {
        "id": "EcBgiycWWosw",
        "colab": {
          "base_uri": "https://localhost:8080/"
        },
        "outputId": "2d1cc95d-78ac-4667-a73f-65b5a2533fb0"
      },
      "execution_count": null,
      "outputs": [
        {
          "output_type": "stream",
          "name": "stdout",
          "text": [
            "(272,) (272,)\n",
            "[0 0 0 0 1] [0 0 0 0 0]\n"
          ]
        }
      ]
    },
    {
      "cell_type": "code",
      "source": [
        "pred.flatten()[:5]"
      ],
      "metadata": {
        "id": "0OlRubwj3FM_",
        "colab": {
          "base_uri": "https://localhost:8080/"
        },
        "outputId": "c533a276-60b5-4017-9137-80482a44e486"
      },
      "execution_count": null,
      "outputs": [
        {
          "output_type": "execute_result",
          "data": {
            "text/plain": [
              "array([0, 0, 0, 0, 0])"
            ]
          },
          "metadata": {},
          "execution_count": 414
        }
      ]
    },
    {
      "cell_type": "code",
      "source": [
        "ann_acc = accuracy_score(y_test,pred)\n",
        "ann_acc"
      ],
      "metadata": {
        "id": "NqfpzgHhhRtF",
        "colab": {
          "base_uri": "https://localhost:8080/"
        },
        "outputId": "d4d98a0c-2a35-4d75-9c59-081f1ee2439c"
      },
      "execution_count": null,
      "outputs": [
        {
          "output_type": "execute_result",
          "data": {
            "text/plain": [
              "0.8860294117647058"
            ]
          },
          "metadata": {},
          "execution_count": 415
        }
      ]
    },
    {
      "cell_type": "code",
      "source": [
        "print(classification_report(y_test, pred))"
      ],
      "metadata": {
        "id": "ts5pB6tXgNo1",
        "colab": {
          "base_uri": "https://localhost:8080/"
        },
        "outputId": "ae86ad08-5a12-4afe-db99-ebb8b75f1be8"
      },
      "execution_count": null,
      "outputs": [
        {
          "output_type": "stream",
          "name": "stdout",
          "text": [
            "              precision    recall  f1-score   support\n",
            "\n",
            "           0       0.89      0.99      0.94       237\n",
            "           1       0.70      0.20      0.31        35\n",
            "\n",
            "    accuracy                           0.89       272\n",
            "   macro avg       0.80      0.59      0.62       272\n",
            "weighted avg       0.87      0.89      0.86       272\n",
            "\n"
          ]
        }
      ]
    },
    {
      "cell_type": "code",
      "source": [
        "cm = confusion_matrix(y_test,pred)\n",
        "\n",
        "sns.heatmap(cm,annot=True,cmap='coolwarm',fmt='g')"
      ],
      "metadata": {
        "id": "UyoI7AT8hcSZ",
        "colab": {
          "base_uri": "https://localhost:8080/",
          "height": 284
        },
        "outputId": "7c78644a-ca42-4d6f-b1bf-16d1ad91c243"
      },
      "execution_count": null,
      "outputs": [
        {
          "output_type": "execute_result",
          "data": {
            "text/plain": [
              "<matplotlib.axes._subplots.AxesSubplot at 0x7f7b818d5e90>"
            ]
          },
          "metadata": {},
          "execution_count": 417
        },
        {
          "output_type": "display_data",
          "data": {
            "image/png": "[encoded data removed]",
            "text/plain": [
              "<Figure size 432x288 with 2 Axes>"
            ]
          },
          "metadata": {
            "needs_background": "light"
          }
        }
      ]
    },
    {
      "cell_type": "code",
      "source": [
        "hasil_Prediksi['prediksi ANN'] = pred\n",
        "hasil_Prediksi.head(10)"
      ],
      "metadata": {
        "id": "z84U8R3H0xEf",
        "colab": {
          "base_uri": "https://localhost:8080/",
          "height": 363
        },
        "outputId": "f607f0ed-364d-495a-f7bc-f8f4ccfbbe7c"
      },
      "execution_count": null,
      "outputs": [
        {
          "output_type": "execute_result",
          "data": {
            "text/html": [
              "\n",
              "  <div id=\"df-6a76c295-92b9-4fd1-8c90-eab597fc197f\">\n",
              "    <div class=\"colab-df-container\">\n",
              "      <div>\n",
              "<style scoped>\n",
              "    .dataframe tbody tr th:only-of-type {\n",
              "        vertical-align: middle;\n",
              "    }\n",
              "\n",
              "    .dataframe tbody tr th {\n",
              "        vertical-align: top;\n",
              "    }\n",
              "\n",
              "    .dataframe thead th {\n",
              "        text-align: right;\n",
              "    }\n",
              "</style>\n",
              "<table border=\"1\" class=\"dataframe\">\n",
              "  <thead>\n",
              "    <tr style=\"text-align: right;\">\n",
              "      <th></th>\n",
              "      <th>Quality aktual</th>\n",
              "      <th>Prediksi Decision Tree</th>\n",
              "      <th>Prediksi Random Forest</th>\n",
              "      <th>Prediksi KNN</th>\n",
              "      <th>Prediksi Naive Bayes</th>\n",
              "      <th>Prediksi SVM</th>\n",
              "      <th>prediksi ANN</th>\n",
              "    </tr>\n",
              "  </thead>\n",
              "  <tbody>\n",
              "    <tr>\n",
              "      <th>880</th>\n",
              "      <td>0</td>\n",
              "      <td>0</td>\n",
              "      <td>0</td>\n",
              "      <td>0</td>\n",
              "      <td>0</td>\n",
              "      <td>0</td>\n",
              "      <td>0</td>\n",
              "    </tr>\n",
              "    <tr>\n",
              "      <th>1335</th>\n",
              "      <td>0</td>\n",
              "      <td>0</td>\n",
              "      <td>0</td>\n",
              "      <td>0</td>\n",
              "      <td>0</td>\n",
              "      <td>0</td>\n",
              "      <td>0</td>\n",
              "    </tr>\n",
              "    <tr>\n",
              "      <th>1370</th>\n",
              "      <td>0</td>\n",
              "      <td>0</td>\n",
              "      <td>0</td>\n",
              "      <td>0</td>\n",
              "      <td>0</td>\n",
              "      <td>0</td>\n",
              "      <td>0</td>\n",
              "    </tr>\n",
              "    <tr>\n",
              "      <th>1430</th>\n",
              "      <td>0</td>\n",
              "      <td>0</td>\n",
              "      <td>0</td>\n",
              "      <td>0</td>\n",
              "      <td>0</td>\n",
              "      <td>0</td>\n",
              "      <td>0</td>\n",
              "    </tr>\n",
              "    <tr>\n",
              "      <th>444</th>\n",
              "      <td>1</td>\n",
              "      <td>1</td>\n",
              "      <td>0</td>\n",
              "      <td>0</td>\n",
              "      <td>1</td>\n",
              "      <td>0</td>\n",
              "      <td>0</td>\n",
              "    </tr>\n",
              "    <tr>\n",
              "      <th>876</th>\n",
              "      <td>0</td>\n",
              "      <td>0</td>\n",
              "      <td>0</td>\n",
              "      <td>0</td>\n",
              "      <td>0</td>\n",
              "      <td>0</td>\n",
              "      <td>0</td>\n",
              "    </tr>\n",
              "    <tr>\n",
              "      <th>441</th>\n",
              "      <td>0</td>\n",
              "      <td>0</td>\n",
              "      <td>0</td>\n",
              "      <td>0</td>\n",
              "      <td>1</td>\n",
              "      <td>0</td>\n",
              "      <td>0</td>\n",
              "    </tr>\n",
              "    <tr>\n",
              "      <th>1419</th>\n",
              "      <td>0</td>\n",
              "      <td>0</td>\n",
              "      <td>0</td>\n",
              "      <td>0</td>\n",
              "      <td>0</td>\n",
              "      <td>0</td>\n",
              "      <td>0</td>\n",
              "    </tr>\n",
              "    <tr>\n",
              "      <th>773</th>\n",
              "      <td>0</td>\n",
              "      <td>0</td>\n",
              "      <td>0</td>\n",
              "      <td>0</td>\n",
              "      <td>0</td>\n",
              "      <td>0</td>\n",
              "      <td>0</td>\n",
              "    </tr>\n",
              "    <tr>\n",
              "      <th>418</th>\n",
              "      <td>0</td>\n",
              "      <td>0</td>\n",
              "      <td>0</td>\n",
              "      <td>0</td>\n",
              "      <td>0</td>\n",
              "      <td>0</td>\n",
              "      <td>0</td>\n",
              "    </tr>\n",
              "  </tbody>\n",
              "</table>\n",
              "</div>\n",
              "      <button class=\"colab-df-convert\" onclick=\"convertToInteractive('df-6a76c295-92b9-4fd1-8c90-eab597fc197f')\"\n",
              "              title=\"Convert this dataframe to an interactive table.\"\n",
              "              style=\"display:none;\">\n",
              "        \n",
              "  <svg xmlns=\"http://www.w3.org/2000/svg\" height=\"24px\"viewBox=\"0 0 24 24\"\n",
              "       width=\"24px\">\n",
              "    <path d=\"M0 0h24v24H0V0z\" fill=\"none\"/>\n",
              "    <path d=\"M18.56 5.44l.94 2.06.94-2.06 2.06-.94-2.06-.94-.94-2.06-.94 2.06-2.06.94zm-11 1L8.5 8.5l.94-2.06 2.06-.94-2.06-.94L8.5 2.5l-.94 2.06-2.06.94zm10 10l.94 2.06.94-2.06 2.06-.94-2.06-.94-.94-2.06-.94 2.06-2.06.94z\"/><path d=\"M17.41 7.96l-1.37-1.37c-.4-.4-.92-.59-1.43-.59-.52 0-1.04.2-1.43.59L10.3 9.45l-7.72 7.72c-.78.78-.78 2.05 0 2.83L4 21.41c.39.39.9.59 1.41.59.51 0 1.02-.2 1.41-.59l7.78-7.78 2.81-2.81c.8-.78.8-2.07 0-2.86zM5.41 20L4 18.59l7.72-7.72 1.47 1.35L5.41 20z\"/>\n",
              "  </svg>\n",
              "      </button>\n",
              "      \n",
              "  <style>\n",
              "    .colab-df-container {\n",
              "      display:flex;\n",
              "      flex-wrap:wrap;\n",
              "      gap: 12px;\n",
              "    }\n",
              "\n",
              "    .colab-df-convert {\n",
              "      background-color: #E8F0FE;\n",
              "      border: none;\n",
              "      border-radius: 50%;\n",
              "      cursor: pointer;\n",
              "      display: none;\n",
              "      fill: #1967D2;\n",
              "      height: 32px;\n",
              "      padding: 0 0 0 0;\n",
              "      width: 32px;\n",
              "    }\n",
              "\n",
              "    .colab-df-convert:hover {\n",
              "      background-color: #E2EBFA;\n",
              "      box-shadow: 0px 1px 2px rgba(60, 64, 67, 0.3), 0px 1px 3px 1px rgba(60, 64, 67, 0.15);\n",
              "      fill: #174EA6;\n",
              "    }\n",
              "\n",
              "    [theme=dark] .colab-df-convert {\n",
              "      background-color: #3B4455;\n",
              "      fill: #D2E3FC;\n",
              "    }\n",
              "\n",
              "    [theme=dark] .colab-df-convert:hover {\n",
              "      background-color: #434B5C;\n",
              "      box-shadow: 0px 1px 3px 1px rgba(0, 0, 0, 0.15);\n",
              "      filter: drop-shadow(0px 1px 2px rgba(0, 0, 0, 0.3));\n",
              "      fill: #FFFFFF;\n",
              "    }\n",
              "  </style>\n",
              "\n",
              "      <script>\n",
              "        const buttonEl =\n",
              "          document.querySelector('#df-6a76c295-92b9-4fd1-8c90-eab597fc197f button.colab-df-convert');\n",
              "        buttonEl.style.display =\n",
              "          google.colab.kernel.accessAllowed ? 'block' : 'none';\n",
              "\n",
              "        async function convertToInteractive(key) {\n",
              "          const element = document.querySelector('#df-6a76c295-92b9-4fd1-8c90-eab597fc197f');\n",
              "          const dataTable =\n",
              "            await google.colab.kernel.invokeFunction('convertToInteractive',\n",
              "                                                     [key], {});\n",
              "          if (!dataTable) return;\n",
              "\n",
              "          const docLinkHtml = 'Like what you see? Visit the ' +\n",
              "            '<a target=\"_blank\" href=https://colab.research.google.com/notebooks/data_table.ipynb>data table notebook</a>'\n",
              "            + ' to learn more about interactive tables.';\n",
              "          element.innerHTML = '';\n",
              "          dataTable['output_type'] = 'display_data';\n",
              "          await google.colab.output.renderOutput(dataTable, element);\n",
              "          const docLink = document.createElement('div');\n",
              "          docLink.innerHTML = docLinkHtml;\n",
              "          element.appendChild(docLink);\n",
              "        }\n",
              "      </script>\n",
              "    </div>\n",
              "  </div>\n",
              "  "
            ],
            "text/plain": [
              "      Quality aktual  Prediksi Decision Tree  ...  Prediksi SVM  prediksi ANN\n",
              "880                0                       0  ...             0             0\n",
              "1335               0                       0  ...             0             0\n",
              "1370               0                       0  ...             0             0\n",
              "1430               0                       0  ...             0             0\n",
              "444                1                       1  ...             0             0\n",
              "876                0                       0  ...             0             0\n",
              "441                0                       0  ...             0             0\n",
              "1419               0                       0  ...             0             0\n",
              "773                0                       0  ...             0             0\n",
              "418                0                       0  ...             0             0\n",
              "\n",
              "[10 rows x 7 columns]"
            ]
          },
          "metadata": {},
          "execution_count": 418
        }
      ]
    },
    {
      "cell_type": "markdown",
      "metadata": {
        "id": "kYr9RRuSt42I"
      },
      "source": [
        "#Perbandingan"
      ]
    },
    {
      "cell_type": "code",
      "execution_count": null,
      "metadata": {
        "id": "swzEnbKet4Cq",
        "colab": {
          "base_uri": "https://localhost:8080/"
        },
        "outputId": "b3bb6578-05b7-4c2e-9402-0e24b7a2f6fa"
      },
      "outputs": [
        {
          "output_type": "stream",
          "name": "stdout",
          "text": [
            "Perbandingan Akurasi Setiap Model\n",
            "================================\n",
            "Decision Tree           : 86.40%\n",
            "Random Forest           : 87.87%\n",
            "KNN                     : 85.66%\n",
            "Naive Bayes             : 86.76%\n",
            "Support Vector Machines : 87.13%\n",
            "ANN                     : 88.60%\n"
          ]
        }
      ],
      "source": [
        "print('Perbandingan Akurasi Setiap Model')\n",
        "print('================================')\n",
        "print('Decision Tree           : {:.2f}%'.format(decision_tree_acc * 100))\n",
        "print('Random Forest           : {:.2f}%'.format(randomforest_acc * 100))\n",
        "print('KNN                     : {:.2f}%'.format(knn_acc * 100))\n",
        "print('Naive Bayes             : {:.2f}%'.format(nb_acc * 100))\n",
        "print('Support Vector Machines : {:.2f}%'.format(sv_acc * 100))\n",
        "print('ANN                     : {:.2f}%'.format(ann_acc * 100))"
      ]
    }
  ],
  "metadata": {
    "colab": {
      "collapsed_sections": [],
      "name": "klasifikasi_wine.ipynb",
      "provenance": [],
      "authorship_tag": "ABX9TyOxw0AINsEL02hvyPKPG55O",
      "include_colab_link": true
    },
    "kernelspec": {
      "display_name": "Python 3",
      "name": "python3"
    },
    "language_info": {
      "name": "python"
    }
  },
  "nbformat": 4,
  "nbformat_minor": 0
}